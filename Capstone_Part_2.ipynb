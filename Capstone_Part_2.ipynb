{
  "nbformat": 4,
  "nbformat_minor": 0,
  "metadata": {
    "colab": {
      "name": "Capstone Part 2.ipynb",
      "provenance": []
    },
    "kernelspec": {
      "name": "python3",
      "display_name": "Python 3"
    },
    "language_info": {
      "name": "python"
    }
  },
  "cells": [
    {
      "cell_type": "code",
      "execution_count": 1,
      "metadata": {
        "id": "Rsa3oJ6e9Q0p"
      },
      "outputs": [],
      "source": [
        "#Capstone Project \n",
        "#Part 2 Notebook\n",
        "#Importing and reviewing annual air quality data"
      ]
    },
    {
      "cell_type": "code",
      "source": [
        "#import libraries"
      ],
      "metadata": {
        "id": "VEB6evhw9rM-"
      },
      "execution_count": 2,
      "outputs": []
    },
    {
      "cell_type": "code",
      "source": [
        "import pandas as pd\n",
        "import io"
      ],
      "metadata": {
        "id": "FAvzbv8e9te1"
      },
      "execution_count": 3,
      "outputs": []
    },
    {
      "cell_type": "code",
      "source": [
        "#importing annual data for 2018, 2019, 2020, and 2021"
      ],
      "metadata": {
        "id": "GHjVX4g99uNp"
      },
      "execution_count": 4,
      "outputs": []
    },
    {
      "cell_type": "code",
      "source": [
        "from google.colab import files\n",
        "uploaded = files.upload()"
      ],
      "metadata": {
        "colab": {
          "resources": {
            "http://localhost:8080/nbextensions/google.colab/files.js": {
              "data": "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",
              "ok": true,
              "headers": [
                [
                  "content-type",
                  "application/javascript"
                ]
              ],
              "status": 200,
              "status_text": ""
            }
          },
          "base_uri": "https://localhost:8080/",
          "height": 73
        },
        "id": "uBKPDZvi98cm",
        "outputId": "4ffc3a19-cc6b-4795-82f6-d88fbe739333"
      },
      "execution_count": 5,
      "outputs": [
        {
          "output_type": "display_data",
          "data": {
            "text/plain": [
              "<IPython.core.display.HTML object>"
            ],
            "text/html": [
              "\n",
              "     <input type=\"file\" id=\"files-88d9bdd3-7db6-4808-9dde-3386e4dd0cf3\" name=\"files[]\" multiple disabled\n",
              "        style=\"border:none\" />\n",
              "     <output id=\"result-88d9bdd3-7db6-4808-9dde-3386e4dd0cf3\">\n",
              "      Upload widget is only available when the cell has been executed in the\n",
              "      current browser session. Please rerun this cell to enable.\n",
              "      </output>\n",
              "      <script src=\"/nbextensions/google.colab/files.js\"></script> "
            ]
          },
          "metadata": {}
        },
        {
          "output_type": "stream",
          "name": "stdout",
          "text": [
            "Saving annual_conc_by_monitor_2018.csv to annual_conc_by_monitor_2018.csv\n"
          ]
        }
      ]
    },
    {
      "cell_type": "code",
      "source": [
        "ad18 = pd.read_csv(io.BytesIO(uploaded['annual_conc_by_monitor_2018.csv']))"
      ],
      "metadata": {
        "id": "CS4dAtpi-HCh"
      },
      "execution_count": 6,
      "outputs": []
    },
    {
      "cell_type": "code",
      "source": [
        "from google.colab import files\n",
        "uploaded = files.upload()"
      ],
      "metadata": {
        "colab": {
          "resources": {
            "http://localhost:8080/nbextensions/google.colab/files.js": {
              "data": "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",
              "ok": true,
              "headers": [
                [
                  "content-type",
                  "application/javascript"
                ]
              ],
              "status": 200,
              "status_text": ""
            }
          },
          "base_uri": "https://localhost:8080/",
          "height": 73
        },
        "id": "70frUGao_oZl",
        "outputId": "227571d0-f9fd-4527-a562-ce9ca7133aed"
      },
      "execution_count": 7,
      "outputs": [
        {
          "output_type": "display_data",
          "data": {
            "text/plain": [
              "<IPython.core.display.HTML object>"
            ],
            "text/html": [
              "\n",
              "     <input type=\"file\" id=\"files-e60e65fc-fc56-4c43-8e6f-565aa4e57d7e\" name=\"files[]\" multiple disabled\n",
              "        style=\"border:none\" />\n",
              "     <output id=\"result-e60e65fc-fc56-4c43-8e6f-565aa4e57d7e\">\n",
              "      Upload widget is only available when the cell has been executed in the\n",
              "      current browser session. Please rerun this cell to enable.\n",
              "      </output>\n",
              "      <script src=\"/nbextensions/google.colab/files.js\"></script> "
            ]
          },
          "metadata": {}
        },
        {
          "output_type": "stream",
          "name": "stdout",
          "text": [
            "Saving annual_conc_by_monitor_2019.csv to annual_conc_by_monitor_2019.csv\n"
          ]
        }
      ]
    },
    {
      "cell_type": "code",
      "source": [
        "ad19 = pd.read_csv(io.BytesIO(uploaded['annual_conc_by_monitor_2019.csv']))"
      ],
      "metadata": {
        "id": "Y27Nzc1pA-zL"
      },
      "execution_count": 8,
      "outputs": []
    },
    {
      "cell_type": "code",
      "source": [
        "from google.colab import files\n",
        "uploaded = files.upload()"
      ],
      "metadata": {
        "colab": {
          "resources": {
            "http://localhost:8080/nbextensions/google.colab/files.js": {
              "data": "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",
              "ok": true,
              "headers": [
                [
                  "content-type",
                  "application/javascript"
                ]
              ],
              "status": 200,
              "status_text": ""
            }
          },
          "base_uri": "https://localhost:8080/",
          "height": 73
        },
        "id": "X9vLSEKmBEQP",
        "outputId": "81ff215f-2dbf-420f-cef6-405e1b583485"
      },
      "execution_count": 9,
      "outputs": [
        {
          "output_type": "display_data",
          "data": {
            "text/plain": [
              "<IPython.core.display.HTML object>"
            ],
            "text/html": [
              "\n",
              "     <input type=\"file\" id=\"files-fee3e871-53dd-43c9-9235-73c33c3ae29b\" name=\"files[]\" multiple disabled\n",
              "        style=\"border:none\" />\n",
              "     <output id=\"result-fee3e871-53dd-43c9-9235-73c33c3ae29b\">\n",
              "      Upload widget is only available when the cell has been executed in the\n",
              "      current browser session. Please rerun this cell to enable.\n",
              "      </output>\n",
              "      <script src=\"/nbextensions/google.colab/files.js\"></script> "
            ]
          },
          "metadata": {}
        },
        {
          "output_type": "stream",
          "name": "stdout",
          "text": [
            "Saving annual_conc_by_monitor_2020.csv to annual_conc_by_monitor_2020.csv\n"
          ]
        }
      ]
    },
    {
      "cell_type": "code",
      "source": [
        "ad20 = pd.read_csv(io.BytesIO(uploaded['annual_conc_by_monitor_2020.csv']))"
      ],
      "metadata": {
        "id": "O_Ea4uubCbA1"
      },
      "execution_count": 10,
      "outputs": []
    },
    {
      "cell_type": "code",
      "source": [
        "from google.colab import files\n",
        "uploaded = files.upload()"
      ],
      "metadata": {
        "colab": {
          "resources": {
            "http://localhost:8080/nbextensions/google.colab/files.js": {
              "data": "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",
              "ok": true,
              "headers": [
                [
                  "content-type",
                  "application/javascript"
                ]
              ],
              "status": 200,
              "status_text": ""
            }
          },
          "base_uri": "https://localhost:8080/",
          "height": 73
        },
        "id": "YasUoR4lChvl",
        "outputId": "08834eb7-7126-43e7-9da3-96c971204b00"
      },
      "execution_count": 11,
      "outputs": [
        {
          "output_type": "display_data",
          "data": {
            "text/plain": [
              "<IPython.core.display.HTML object>"
            ],
            "text/html": [
              "\n",
              "     <input type=\"file\" id=\"files-62a64393-834f-476f-aebf-6a7779556606\" name=\"files[]\" multiple disabled\n",
              "        style=\"border:none\" />\n",
              "     <output id=\"result-62a64393-834f-476f-aebf-6a7779556606\">\n",
              "      Upload widget is only available when the cell has been executed in the\n",
              "      current browser session. Please rerun this cell to enable.\n",
              "      </output>\n",
              "      <script src=\"/nbextensions/google.colab/files.js\"></script> "
            ]
          },
          "metadata": {}
        },
        {
          "output_type": "stream",
          "name": "stdout",
          "text": [
            "Saving annual_conc_by_monitor_2021.csv to annual_conc_by_monitor_2021.csv\n"
          ]
        }
      ]
    },
    {
      "cell_type": "code",
      "source": [
        "ad21 = pd.read_csv(io.BytesIO(uploaded['annual_conc_by_monitor_2021.csv']))"
      ],
      "metadata": {
        "id": "0hbNtwaAD76M"
      },
      "execution_count": 12,
      "outputs": []
    },
    {
      "cell_type": "code",
      "source": [
        "#merge annual data into one dataset"
      ],
      "metadata": {
        "id": "eVp5Pt_kEUcQ"
      },
      "execution_count": 13,
      "outputs": []
    },
    {
      "cell_type": "code",
      "source": [
        "frames = [ad21, ad20, ad19, ad18]\n",
        "df = pd.concat (frames)"
      ],
      "metadata": {
        "id": "uV7IK-9KEZda"
      },
      "execution_count": 14,
      "outputs": []
    },
    {
      "cell_type": "code",
      "source": [
        "#review data"
      ],
      "metadata": {
        "id": "McBopdX-ErVu"
      },
      "execution_count": 15,
      "outputs": []
    },
    {
      "cell_type": "code",
      "source": [
        "df.info()"
      ],
      "metadata": {
        "colab": {
          "base_uri": "https://localhost:8080/"
        },
        "id": "FW2OObDXEtAa",
        "outputId": "b02467ed-b174-4fd0-a04d-49fb98e2bc21"
      },
      "execution_count": 16,
      "outputs": [
        {
          "output_type": "stream",
          "name": "stdout",
          "text": [
            "<class 'pandas.core.frame.DataFrame'>\n",
            "Int64Index: 296197 entries, 0 to 73258\n",
            "Data columns (total 55 columns):\n",
            " #   Column                         Non-Null Count   Dtype  \n",
            "---  ------                         --------------   -----  \n",
            " 0   State Code                     296197 non-null  int64  \n",
            " 1   County Code                    296197 non-null  int64  \n",
            " 2   Site Num                       296197 non-null  int64  \n",
            " 3   Parameter Code                 296197 non-null  int64  \n",
            " 4   POC                            296197 non-null  int64  \n",
            " 5   Latitude                       296197 non-null  float64\n",
            " 6   Longitude                      296197 non-null  float64\n",
            " 7   Datum                          296197 non-null  object \n",
            " 8   Parameter Name                 296197 non-null  object \n",
            " 9   Sample Duration                296197 non-null  object \n",
            " 10  Pollutant Standard             77174 non-null   object \n",
            " 11  Metric Used                    296197 non-null  object \n",
            " 12  Method Name                    253511 non-null  object \n",
            " 13  Year                           296197 non-null  int64  \n",
            " 14  Units of Measure               296197 non-null  object \n",
            " 15  Event Type                     296197 non-null  object \n",
            " 16  Observation Count              296197 non-null  int64  \n",
            " 17  Observation Percent            296197 non-null  int64  \n",
            " 18  Completeness Indicator         296197 non-null  object \n",
            " 19  Valid Day Count                296197 non-null  int64  \n",
            " 20  Required Day Count             296197 non-null  int64  \n",
            " 21  Exceptional Data Count         296197 non-null  int64  \n",
            " 22  Null Data Count                296197 non-null  int64  \n",
            " 23  Primary Exceedance Count       52590 non-null   float64\n",
            " 24  Secondary Exceedance Count     48797 non-null   float64\n",
            " 25  Certification Indicator        296197 non-null  object \n",
            " 26  Num Obs Below MDL              296197 non-null  int64  \n",
            " 27  Arithmetic Mean                296196 non-null  float64\n",
            " 28  Arithmetic Standard Dev        296196 non-null  float64\n",
            " 29  1st Max Value                  296196 non-null  float64\n",
            " 30  1st Max DateTime               296196 non-null  object \n",
            " 31  2nd Max Value                  295290 non-null  float64\n",
            " 32  2nd Max DateTime               295290 non-null  object \n",
            " 33  3rd Max Value                  294638 non-null  float64\n",
            " 34  3rd Max DateTime               294638 non-null  object \n",
            " 35  4th Max Value                  294215 non-null  float64\n",
            " 36  4th Max DateTime               294215 non-null  object \n",
            " 37  1st Max Non Overlapping Value  1099 non-null    float64\n",
            " 38  1st NO Max DateTime            1099 non-null    object \n",
            " 39  2nd Max Non Overlapping Value  1099 non-null    float64\n",
            " 40  2nd NO Max DateTime            1099 non-null    object \n",
            " 41  99th Percentile                296197 non-null  float64\n",
            " 42  98th Percentile                296197 non-null  float64\n",
            " 43  95th Percentile                296197 non-null  float64\n",
            " 44  90th Percentile                296197 non-null  float64\n",
            " 45  75th Percentile                296197 non-null  float64\n",
            " 46  50th Percentile                296197 non-null  float64\n",
            " 47  10th Percentile                296197 non-null  float64\n",
            " 48  Local Site Name                271765 non-null  object \n",
            " 49  Address                        296116 non-null  object \n",
            " 50  State Name                     296197 non-null  object \n",
            " 51  County Name                    296197 non-null  object \n",
            " 52  City Name                      236930 non-null  object \n",
            " 53  CBSA Name                      267792 non-null  object \n",
            " 54  Date of Last Change            296197 non-null  object \n",
            "dtypes: float64(19), int64(13), object(23)\n",
            "memory usage: 126.5+ MB\n"
          ]
        }
      ]
    },
    {
      "cell_type": "code",
      "source": [
        "df.head()"
      ],
      "metadata": {
        "colab": {
          "base_uri": "https://localhost:8080/",
          "height": 785
        },
        "id": "dvOuk0HREvmy",
        "outputId": "a1c51600-75cb-4c6b-b550-b33594d942d1"
      },
      "execution_count": 17,
      "outputs": [
        {
          "output_type": "execute_result",
          "data": {
            "text/plain": [
              "   State Code  County Code  Site Num  Parameter Code  POC   Latitude  \\\n",
              "0           1            3        10           44201    1  30.497478   \n",
              "1           1            3        10           44201    1  30.497478   \n",
              "2           1            3        10           44201    1  30.497478   \n",
              "3           1            3        10           44201    1  30.497478   \n",
              "4           1            3        10           88101    1  30.497478   \n",
              "\n",
              "   Longitude  Datum            Parameter Name          Sample Duration  ...  \\\n",
              "0 -87.880258  NAD83                     Ozone                   1 HOUR  ...   \n",
              "1 -87.880258  NAD83                     Ozone  8-HR RUN AVG BEGIN HOUR  ...   \n",
              "2 -87.880258  NAD83                     Ozone  8-HR RUN AVG BEGIN HOUR  ...   \n",
              "3 -87.880258  NAD83                     Ozone  8-HR RUN AVG BEGIN HOUR  ...   \n",
              "4 -87.880258  NAD83  PM2.5 - Local Conditions                  24 HOUR  ...   \n",
              "\n",
              "  75th Percentile 50th Percentile 10th Percentile    Local Site Name  \\\n",
              "0           0.050           0.044           0.028  FAIRHOPE, Alabama   \n",
              "1           0.046           0.040           0.024  FAIRHOPE, Alabama   \n",
              "2           0.046           0.040           0.024  FAIRHOPE, Alabama   \n",
              "3           0.046           0.039           0.024  FAIRHOPE, Alabama   \n",
              "4           9.300           6.800           4.300  FAIRHOPE, Alabama   \n",
              "\n",
              "                                             Address State Name  County Name  \\\n",
              "0  FAIRHOPE HIGH SCHOOL, 1 PIRATE DRIVE, FAIRHOPE...    Alabama      Baldwin   \n",
              "1  FAIRHOPE HIGH SCHOOL, 1 PIRATE DRIVE, FAIRHOPE...    Alabama      Baldwin   \n",
              "2  FAIRHOPE HIGH SCHOOL, 1 PIRATE DRIVE, FAIRHOPE...    Alabama      Baldwin   \n",
              "3  FAIRHOPE HIGH SCHOOL, 1 PIRATE DRIVE, FAIRHOPE...    Alabama      Baldwin   \n",
              "4  FAIRHOPE HIGH SCHOOL, 1 PIRATE DRIVE, FAIRHOPE...    Alabama      Baldwin   \n",
              "\n",
              "   City Name                  CBSA Name  Date of Last Change  \n",
              "0   Fairhope  Daphne-Fairhope-Foley, AL           2021-11-12  \n",
              "1   Fairhope  Daphne-Fairhope-Foley, AL           2021-11-12  \n",
              "2   Fairhope  Daphne-Fairhope-Foley, AL           2021-11-12  \n",
              "3   Fairhope  Daphne-Fairhope-Foley, AL           2021-11-12  \n",
              "4   Fairhope  Daphne-Fairhope-Foley, AL           2021-11-12  \n",
              "\n",
              "[5 rows x 55 columns]"
            ],
            "text/html": [
              "\n",
              "  <div id=\"df-cb4a364b-1686-4ab9-a0a6-8869b141f96e\">\n",
              "    <div class=\"colab-df-container\">\n",
              "      <div>\n",
              "<style scoped>\n",
              "    .dataframe tbody tr th:only-of-type {\n",
              "        vertical-align: middle;\n",
              "    }\n",
              "\n",
              "    .dataframe tbody tr th {\n",
              "        vertical-align: top;\n",
              "    }\n",
              "\n",
              "    .dataframe thead th {\n",
              "        text-align: right;\n",
              "    }\n",
              "</style>\n",
              "<table border=\"1\" class=\"dataframe\">\n",
              "  <thead>\n",
              "    <tr style=\"text-align: right;\">\n",
              "      <th></th>\n",
              "      <th>State Code</th>\n",
              "      <th>County Code</th>\n",
              "      <th>Site Num</th>\n",
              "      <th>Parameter Code</th>\n",
              "      <th>POC</th>\n",
              "      <th>Latitude</th>\n",
              "      <th>Longitude</th>\n",
              "      <th>Datum</th>\n",
              "      <th>Parameter Name</th>\n",
              "      <th>Sample Duration</th>\n",
              "      <th>...</th>\n",
              "      <th>75th Percentile</th>\n",
              "      <th>50th Percentile</th>\n",
              "      <th>10th Percentile</th>\n",
              "      <th>Local Site Name</th>\n",
              "      <th>Address</th>\n",
              "      <th>State Name</th>\n",
              "      <th>County Name</th>\n",
              "      <th>City Name</th>\n",
              "      <th>CBSA Name</th>\n",
              "      <th>Date of Last Change</th>\n",
              "    </tr>\n",
              "  </thead>\n",
              "  <tbody>\n",
              "    <tr>\n",
              "      <th>0</th>\n",
              "      <td>1</td>\n",
              "      <td>3</td>\n",
              "      <td>10</td>\n",
              "      <td>44201</td>\n",
              "      <td>1</td>\n",
              "      <td>30.497478</td>\n",
              "      <td>-87.880258</td>\n",
              "      <td>NAD83</td>\n",
              "      <td>Ozone</td>\n",
              "      <td>1 HOUR</td>\n",
              "      <td>...</td>\n",
              "      <td>0.050</td>\n",
              "      <td>0.044</td>\n",
              "      <td>0.028</td>\n",
              "      <td>FAIRHOPE, Alabama</td>\n",
              "      <td>FAIRHOPE HIGH SCHOOL, 1 PIRATE DRIVE, FAIRHOPE...</td>\n",
              "      <td>Alabama</td>\n",
              "      <td>Baldwin</td>\n",
              "      <td>Fairhope</td>\n",
              "      <td>Daphne-Fairhope-Foley, AL</td>\n",
              "      <td>2021-11-12</td>\n",
              "    </tr>\n",
              "    <tr>\n",
              "      <th>1</th>\n",
              "      <td>1</td>\n",
              "      <td>3</td>\n",
              "      <td>10</td>\n",
              "      <td>44201</td>\n",
              "      <td>1</td>\n",
              "      <td>30.497478</td>\n",
              "      <td>-87.880258</td>\n",
              "      <td>NAD83</td>\n",
              "      <td>Ozone</td>\n",
              "      <td>8-HR RUN AVG BEGIN HOUR</td>\n",
              "      <td>...</td>\n",
              "      <td>0.046</td>\n",
              "      <td>0.040</td>\n",
              "      <td>0.024</td>\n",
              "      <td>FAIRHOPE, Alabama</td>\n",
              "      <td>FAIRHOPE HIGH SCHOOL, 1 PIRATE DRIVE, FAIRHOPE...</td>\n",
              "      <td>Alabama</td>\n",
              "      <td>Baldwin</td>\n",
              "      <td>Fairhope</td>\n",
              "      <td>Daphne-Fairhope-Foley, AL</td>\n",
              "      <td>2021-11-12</td>\n",
              "    </tr>\n",
              "    <tr>\n",
              "      <th>2</th>\n",
              "      <td>1</td>\n",
              "      <td>3</td>\n",
              "      <td>10</td>\n",
              "      <td>44201</td>\n",
              "      <td>1</td>\n",
              "      <td>30.497478</td>\n",
              "      <td>-87.880258</td>\n",
              "      <td>NAD83</td>\n",
              "      <td>Ozone</td>\n",
              "      <td>8-HR RUN AVG BEGIN HOUR</td>\n",
              "      <td>...</td>\n",
              "      <td>0.046</td>\n",
              "      <td>0.040</td>\n",
              "      <td>0.024</td>\n",
              "      <td>FAIRHOPE, Alabama</td>\n",
              "      <td>FAIRHOPE HIGH SCHOOL, 1 PIRATE DRIVE, FAIRHOPE...</td>\n",
              "      <td>Alabama</td>\n",
              "      <td>Baldwin</td>\n",
              "      <td>Fairhope</td>\n",
              "      <td>Daphne-Fairhope-Foley, AL</td>\n",
              "      <td>2021-11-12</td>\n",
              "    </tr>\n",
              "    <tr>\n",
              "      <th>3</th>\n",
              "      <td>1</td>\n",
              "      <td>3</td>\n",
              "      <td>10</td>\n",
              "      <td>44201</td>\n",
              "      <td>1</td>\n",
              "      <td>30.497478</td>\n",
              "      <td>-87.880258</td>\n",
              "      <td>NAD83</td>\n",
              "      <td>Ozone</td>\n",
              "      <td>8-HR RUN AVG BEGIN HOUR</td>\n",
              "      <td>...</td>\n",
              "      <td>0.046</td>\n",
              "      <td>0.039</td>\n",
              "      <td>0.024</td>\n",
              "      <td>FAIRHOPE, Alabama</td>\n",
              "      <td>FAIRHOPE HIGH SCHOOL, 1 PIRATE DRIVE, FAIRHOPE...</td>\n",
              "      <td>Alabama</td>\n",
              "      <td>Baldwin</td>\n",
              "      <td>Fairhope</td>\n",
              "      <td>Daphne-Fairhope-Foley, AL</td>\n",
              "      <td>2021-11-12</td>\n",
              "    </tr>\n",
              "    <tr>\n",
              "      <th>4</th>\n",
              "      <td>1</td>\n",
              "      <td>3</td>\n",
              "      <td>10</td>\n",
              "      <td>88101</td>\n",
              "      <td>1</td>\n",
              "      <td>30.497478</td>\n",
              "      <td>-87.880258</td>\n",
              "      <td>NAD83</td>\n",
              "      <td>PM2.5 - Local Conditions</td>\n",
              "      <td>24 HOUR</td>\n",
              "      <td>...</td>\n",
              "      <td>9.300</td>\n",
              "      <td>6.800</td>\n",
              "      <td>4.300</td>\n",
              "      <td>FAIRHOPE, Alabama</td>\n",
              "      <td>FAIRHOPE HIGH SCHOOL, 1 PIRATE DRIVE, FAIRHOPE...</td>\n",
              "      <td>Alabama</td>\n",
              "      <td>Baldwin</td>\n",
              "      <td>Fairhope</td>\n",
              "      <td>Daphne-Fairhope-Foley, AL</td>\n",
              "      <td>2021-11-12</td>\n",
              "    </tr>\n",
              "  </tbody>\n",
              "</table>\n",
              "<p>5 rows × 55 columns</p>\n",
              "</div>\n",
              "      <button class=\"colab-df-convert\" onclick=\"convertToInteractive('df-cb4a364b-1686-4ab9-a0a6-8869b141f96e')\"\n",
              "              title=\"Convert this dataframe to an interactive table.\"\n",
              "              style=\"display:none;\">\n",
              "        \n",
              "  <svg xmlns=\"http://www.w3.org/2000/svg\" height=\"24px\"viewBox=\"0 0 24 24\"\n",
              "       width=\"24px\">\n",
              "    <path d=\"M0 0h24v24H0V0z\" fill=\"none\"/>\n",
              "    <path d=\"M18.56 5.44l.94 2.06.94-2.06 2.06-.94-2.06-.94-.94-2.06-.94 2.06-2.06.94zm-11 1L8.5 8.5l.94-2.06 2.06-.94-2.06-.94L8.5 2.5l-.94 2.06-2.06.94zm10 10l.94 2.06.94-2.06 2.06-.94-2.06-.94-.94-2.06-.94 2.06-2.06.94z\"/><path d=\"M17.41 7.96l-1.37-1.37c-.4-.4-.92-.59-1.43-.59-.52 0-1.04.2-1.43.59L10.3 9.45l-7.72 7.72c-.78.78-.78 2.05 0 2.83L4 21.41c.39.39.9.59 1.41.59.51 0 1.02-.2 1.41-.59l7.78-7.78 2.81-2.81c.8-.78.8-2.07 0-2.86zM5.41 20L4 18.59l7.72-7.72 1.47 1.35L5.41 20z\"/>\n",
              "  </svg>\n",
              "      </button>\n",
              "      \n",
              "  <style>\n",
              "    .colab-df-container {\n",
              "      display:flex;\n",
              "      flex-wrap:wrap;\n",
              "      gap: 12px;\n",
              "    }\n",
              "\n",
              "    .colab-df-convert {\n",
              "      background-color: #E8F0FE;\n",
              "      border: none;\n",
              "      border-radius: 50%;\n",
              "      cursor: pointer;\n",
              "      display: none;\n",
              "      fill: #1967D2;\n",
              "      height: 32px;\n",
              "      padding: 0 0 0 0;\n",
              "      width: 32px;\n",
              "    }\n",
              "\n",
              "    .colab-df-convert:hover {\n",
              "      background-color: #E2EBFA;\n",
              "      box-shadow: 0px 1px 2px rgba(60, 64, 67, 0.3), 0px 1px 3px 1px rgba(60, 64, 67, 0.15);\n",
              "      fill: #174EA6;\n",
              "    }\n",
              "\n",
              "    [theme=dark] .colab-df-convert {\n",
              "      background-color: #3B4455;\n",
              "      fill: #D2E3FC;\n",
              "    }\n",
              "\n",
              "    [theme=dark] .colab-df-convert:hover {\n",
              "      background-color: #434B5C;\n",
              "      box-shadow: 0px 1px 3px 1px rgba(0, 0, 0, 0.15);\n",
              "      filter: drop-shadow(0px 1px 2px rgba(0, 0, 0, 0.3));\n",
              "      fill: #FFFFFF;\n",
              "    }\n",
              "  </style>\n",
              "\n",
              "      <script>\n",
              "        const buttonEl =\n",
              "          document.querySelector('#df-cb4a364b-1686-4ab9-a0a6-8869b141f96e button.colab-df-convert');\n",
              "        buttonEl.style.display =\n",
              "          google.colab.kernel.accessAllowed ? 'block' : 'none';\n",
              "\n",
              "        async function convertToInteractive(key) {\n",
              "          const element = document.querySelector('#df-cb4a364b-1686-4ab9-a0a6-8869b141f96e');\n",
              "          const dataTable =\n",
              "            await google.colab.kernel.invokeFunction('convertToInteractive',\n",
              "                                                     [key], {});\n",
              "          if (!dataTable) return;\n",
              "\n",
              "          const docLinkHtml = 'Like what you see? Visit the ' +\n",
              "            '<a target=\"_blank\" href=https://colab.research.google.com/notebooks/data_table.ipynb>data table notebook</a>'\n",
              "            + ' to learn more about interactive tables.';\n",
              "          element.innerHTML = '';\n",
              "          dataTable['output_type'] = 'display_data';\n",
              "          await google.colab.output.renderOutput(dataTable, element);\n",
              "          const docLink = document.createElement('div');\n",
              "          docLink.innerHTML = docLinkHtml;\n",
              "          element.appendChild(docLink);\n",
              "        }\n",
              "      </script>\n",
              "    </div>\n",
              "  </div>\n",
              "  "
            ]
          },
          "metadata": {},
          "execution_count": 17
        }
      ]
    },
    {
      "cell_type": "code",
      "source": [
        "df.tail()"
      ],
      "metadata": {
        "colab": {
          "base_uri": "https://localhost:8080/",
          "height": 664
        },
        "id": "RNP9jVTKE2EU",
        "outputId": "1e091efd-9cc7-403b-c288-7749ecedbf50"
      },
      "execution_count": 18,
      "outputs": [
        {
          "output_type": "execute_result",
          "data": {
            "text/plain": [
              "       State Code  County Code  Site Num  Parameter Code  POC   Latitude  \\\n",
              "73254          80            2        24           85101    1  32.654420   \n",
              "73255          80           26      8012           44201    1  32.466389   \n",
              "73256          80           26      8012           44201    1  32.466389   \n",
              "73257          80           26      8012           44201    1  32.466389   \n",
              "73258          80           26      8012           44201    1  32.466389   \n",
              "\n",
              "        Longitude  Datum Parameter Name          Sample Duration  ...  \\\n",
              "73254 -115.407267  NAD83      PM10 - LC                  24 HOUR  ...   \n",
              "73255 -114.768611  WGS84          Ozone                   1 HOUR  ...   \n",
              "73256 -114.768611  WGS84          Ozone  8-HR RUN AVG BEGIN HOUR  ...   \n",
              "73257 -114.768611  WGS84          Ozone  8-HR RUN AVG BEGIN HOUR  ...   \n",
              "73258 -114.768611  WGS84          Ozone  8-HR RUN AVG BEGIN HOUR  ...   \n",
              "\n",
              "      75th Percentile 50th Percentile 10th Percentile  \\\n",
              "73254         101.000          71.000          42.000   \n",
              "73255           0.055           0.046           0.036   \n",
              "73256           0.048           0.041           0.030   \n",
              "73257           0.048           0.041           0.030   \n",
              "73258           0.049           0.041           0.031   \n",
              "\n",
              "                     Local Site Name  \\\n",
              "73254                            NaN   \n",
              "73255  San Luis Rio Colorado Well 10   \n",
              "73256  San Luis Rio Colorado Well 10   \n",
              "73257  San Luis Rio Colorado Well 10   \n",
              "73258  San Luis Rio Colorado Well 10   \n",
              "\n",
              "                                             Address         State Name  \\\n",
              "73254                                  Calzada Cetys  Country Of Mexico   \n",
              "73255  Calle 15 & Venustiano Carranza Water Well #10  Country Of Mexico   \n",
              "73256  Calle 15 & Venustiano Carranza Water Well #10  Country Of Mexico   \n",
              "73257  Calle 15 & Venustiano Carranza Water Well #10  Country Of Mexico   \n",
              "73258  Calle 15 & Venustiano Carranza Water Well #10  Country Of Mexico   \n",
              "\n",
              "                 County Name  City Name CBSA Name  Date of Last Change  \n",
              "73254  BAJA CALIFORNIA NORTE   Mexicali       NaN           2020-05-21  \n",
              "73255                 SONORA        NaN       NaN           2021-11-05  \n",
              "73256                 SONORA        NaN       NaN           2021-11-05  \n",
              "73257                 SONORA        NaN       NaN           2021-11-05  \n",
              "73258                 SONORA        NaN       NaN           2021-11-05  \n",
              "\n",
              "[5 rows x 55 columns]"
            ],
            "text/html": [
              "\n",
              "  <div id=\"df-50da3a2e-7c58-4aa0-a725-4ee76d27e95c\">\n",
              "    <div class=\"colab-df-container\">\n",
              "      <div>\n",
              "<style scoped>\n",
              "    .dataframe tbody tr th:only-of-type {\n",
              "        vertical-align: middle;\n",
              "    }\n",
              "\n",
              "    .dataframe tbody tr th {\n",
              "        vertical-align: top;\n",
              "    }\n",
              "\n",
              "    .dataframe thead th {\n",
              "        text-align: right;\n",
              "    }\n",
              "</style>\n",
              "<table border=\"1\" class=\"dataframe\">\n",
              "  <thead>\n",
              "    <tr style=\"text-align: right;\">\n",
              "      <th></th>\n",
              "      <th>State Code</th>\n",
              "      <th>County Code</th>\n",
              "      <th>Site Num</th>\n",
              "      <th>Parameter Code</th>\n",
              "      <th>POC</th>\n",
              "      <th>Latitude</th>\n",
              "      <th>Longitude</th>\n",
              "      <th>Datum</th>\n",
              "      <th>Parameter Name</th>\n",
              "      <th>Sample Duration</th>\n",
              "      <th>...</th>\n",
              "      <th>75th Percentile</th>\n",
              "      <th>50th Percentile</th>\n",
              "      <th>10th Percentile</th>\n",
              "      <th>Local Site Name</th>\n",
              "      <th>Address</th>\n",
              "      <th>State Name</th>\n",
              "      <th>County Name</th>\n",
              "      <th>City Name</th>\n",
              "      <th>CBSA Name</th>\n",
              "      <th>Date of Last Change</th>\n",
              "    </tr>\n",
              "  </thead>\n",
              "  <tbody>\n",
              "    <tr>\n",
              "      <th>73254</th>\n",
              "      <td>80</td>\n",
              "      <td>2</td>\n",
              "      <td>24</td>\n",
              "      <td>85101</td>\n",
              "      <td>1</td>\n",
              "      <td>32.654420</td>\n",
              "      <td>-115.407267</td>\n",
              "      <td>NAD83</td>\n",
              "      <td>PM10 - LC</td>\n",
              "      <td>24 HOUR</td>\n",
              "      <td>...</td>\n",
              "      <td>101.000</td>\n",
              "      <td>71.000</td>\n",
              "      <td>42.000</td>\n",
              "      <td>NaN</td>\n",
              "      <td>Calzada Cetys</td>\n",
              "      <td>Country Of Mexico</td>\n",
              "      <td>BAJA CALIFORNIA NORTE</td>\n",
              "      <td>Mexicali</td>\n",
              "      <td>NaN</td>\n",
              "      <td>2020-05-21</td>\n",
              "    </tr>\n",
              "    <tr>\n",
              "      <th>73255</th>\n",
              "      <td>80</td>\n",
              "      <td>26</td>\n",
              "      <td>8012</td>\n",
              "      <td>44201</td>\n",
              "      <td>1</td>\n",
              "      <td>32.466389</td>\n",
              "      <td>-114.768611</td>\n",
              "      <td>WGS84</td>\n",
              "      <td>Ozone</td>\n",
              "      <td>1 HOUR</td>\n",
              "      <td>...</td>\n",
              "      <td>0.055</td>\n",
              "      <td>0.046</td>\n",
              "      <td>0.036</td>\n",
              "      <td>San Luis Rio Colorado Well 10</td>\n",
              "      <td>Calle 15 &amp; Venustiano Carranza Water Well #10</td>\n",
              "      <td>Country Of Mexico</td>\n",
              "      <td>SONORA</td>\n",
              "      <td>NaN</td>\n",
              "      <td>NaN</td>\n",
              "      <td>2021-11-05</td>\n",
              "    </tr>\n",
              "    <tr>\n",
              "      <th>73256</th>\n",
              "      <td>80</td>\n",
              "      <td>26</td>\n",
              "      <td>8012</td>\n",
              "      <td>44201</td>\n",
              "      <td>1</td>\n",
              "      <td>32.466389</td>\n",
              "      <td>-114.768611</td>\n",
              "      <td>WGS84</td>\n",
              "      <td>Ozone</td>\n",
              "      <td>8-HR RUN AVG BEGIN HOUR</td>\n",
              "      <td>...</td>\n",
              "      <td>0.048</td>\n",
              "      <td>0.041</td>\n",
              "      <td>0.030</td>\n",
              "      <td>San Luis Rio Colorado Well 10</td>\n",
              "      <td>Calle 15 &amp; Venustiano Carranza Water Well #10</td>\n",
              "      <td>Country Of Mexico</td>\n",
              "      <td>SONORA</td>\n",
              "      <td>NaN</td>\n",
              "      <td>NaN</td>\n",
              "      <td>2021-11-05</td>\n",
              "    </tr>\n",
              "    <tr>\n",
              "      <th>73257</th>\n",
              "      <td>80</td>\n",
              "      <td>26</td>\n",
              "      <td>8012</td>\n",
              "      <td>44201</td>\n",
              "      <td>1</td>\n",
              "      <td>32.466389</td>\n",
              "      <td>-114.768611</td>\n",
              "      <td>WGS84</td>\n",
              "      <td>Ozone</td>\n",
              "      <td>8-HR RUN AVG BEGIN HOUR</td>\n",
              "      <td>...</td>\n",
              "      <td>0.048</td>\n",
              "      <td>0.041</td>\n",
              "      <td>0.030</td>\n",
              "      <td>San Luis Rio Colorado Well 10</td>\n",
              "      <td>Calle 15 &amp; Venustiano Carranza Water Well #10</td>\n",
              "      <td>Country Of Mexico</td>\n",
              "      <td>SONORA</td>\n",
              "      <td>NaN</td>\n",
              "      <td>NaN</td>\n",
              "      <td>2021-11-05</td>\n",
              "    </tr>\n",
              "    <tr>\n",
              "      <th>73258</th>\n",
              "      <td>80</td>\n",
              "      <td>26</td>\n",
              "      <td>8012</td>\n",
              "      <td>44201</td>\n",
              "      <td>1</td>\n",
              "      <td>32.466389</td>\n",
              "      <td>-114.768611</td>\n",
              "      <td>WGS84</td>\n",
              "      <td>Ozone</td>\n",
              "      <td>8-HR RUN AVG BEGIN HOUR</td>\n",
              "      <td>...</td>\n",
              "      <td>0.049</td>\n",
              "      <td>0.041</td>\n",
              "      <td>0.031</td>\n",
              "      <td>San Luis Rio Colorado Well 10</td>\n",
              "      <td>Calle 15 &amp; Venustiano Carranza Water Well #10</td>\n",
              "      <td>Country Of Mexico</td>\n",
              "      <td>SONORA</td>\n",
              "      <td>NaN</td>\n",
              "      <td>NaN</td>\n",
              "      <td>2021-11-05</td>\n",
              "    </tr>\n",
              "  </tbody>\n",
              "</table>\n",
              "<p>5 rows × 55 columns</p>\n",
              "</div>\n",
              "      <button class=\"colab-df-convert\" onclick=\"convertToInteractive('df-50da3a2e-7c58-4aa0-a725-4ee76d27e95c')\"\n",
              "              title=\"Convert this dataframe to an interactive table.\"\n",
              "              style=\"display:none;\">\n",
              "        \n",
              "  <svg xmlns=\"http://www.w3.org/2000/svg\" height=\"24px\"viewBox=\"0 0 24 24\"\n",
              "       width=\"24px\">\n",
              "    <path d=\"M0 0h24v24H0V0z\" fill=\"none\"/>\n",
              "    <path d=\"M18.56 5.44l.94 2.06.94-2.06 2.06-.94-2.06-.94-.94-2.06-.94 2.06-2.06.94zm-11 1L8.5 8.5l.94-2.06 2.06-.94-2.06-.94L8.5 2.5l-.94 2.06-2.06.94zm10 10l.94 2.06.94-2.06 2.06-.94-2.06-.94-.94-2.06-.94 2.06-2.06.94z\"/><path d=\"M17.41 7.96l-1.37-1.37c-.4-.4-.92-.59-1.43-.59-.52 0-1.04.2-1.43.59L10.3 9.45l-7.72 7.72c-.78.78-.78 2.05 0 2.83L4 21.41c.39.39.9.59 1.41.59.51 0 1.02-.2 1.41-.59l7.78-7.78 2.81-2.81c.8-.78.8-2.07 0-2.86zM5.41 20L4 18.59l7.72-7.72 1.47 1.35L5.41 20z\"/>\n",
              "  </svg>\n",
              "      </button>\n",
              "      \n",
              "  <style>\n",
              "    .colab-df-container {\n",
              "      display:flex;\n",
              "      flex-wrap:wrap;\n",
              "      gap: 12px;\n",
              "    }\n",
              "\n",
              "    .colab-df-convert {\n",
              "      background-color: #E8F0FE;\n",
              "      border: none;\n",
              "      border-radius: 50%;\n",
              "      cursor: pointer;\n",
              "      display: none;\n",
              "      fill: #1967D2;\n",
              "      height: 32px;\n",
              "      padding: 0 0 0 0;\n",
              "      width: 32px;\n",
              "    }\n",
              "\n",
              "    .colab-df-convert:hover {\n",
              "      background-color: #E2EBFA;\n",
              "      box-shadow: 0px 1px 2px rgba(60, 64, 67, 0.3), 0px 1px 3px 1px rgba(60, 64, 67, 0.15);\n",
              "      fill: #174EA6;\n",
              "    }\n",
              "\n",
              "    [theme=dark] .colab-df-convert {\n",
              "      background-color: #3B4455;\n",
              "      fill: #D2E3FC;\n",
              "    }\n",
              "\n",
              "    [theme=dark] .colab-df-convert:hover {\n",
              "      background-color: #434B5C;\n",
              "      box-shadow: 0px 1px 3px 1px rgba(0, 0, 0, 0.15);\n",
              "      filter: drop-shadow(0px 1px 2px rgba(0, 0, 0, 0.3));\n",
              "      fill: #FFFFFF;\n",
              "    }\n",
              "  </style>\n",
              "\n",
              "      <script>\n",
              "        const buttonEl =\n",
              "          document.querySelector('#df-50da3a2e-7c58-4aa0-a725-4ee76d27e95c button.colab-df-convert');\n",
              "        buttonEl.style.display =\n",
              "          google.colab.kernel.accessAllowed ? 'block' : 'none';\n",
              "\n",
              "        async function convertToInteractive(key) {\n",
              "          const element = document.querySelector('#df-50da3a2e-7c58-4aa0-a725-4ee76d27e95c');\n",
              "          const dataTable =\n",
              "            await google.colab.kernel.invokeFunction('convertToInteractive',\n",
              "                                                     [key], {});\n",
              "          if (!dataTable) return;\n",
              "\n",
              "          const docLinkHtml = 'Like what you see? Visit the ' +\n",
              "            '<a target=\"_blank\" href=https://colab.research.google.com/notebooks/data_table.ipynb>data table notebook</a>'\n",
              "            + ' to learn more about interactive tables.';\n",
              "          element.innerHTML = '';\n",
              "          dataTable['output_type'] = 'display_data';\n",
              "          await google.colab.output.renderOutput(dataTable, element);\n",
              "          const docLink = document.createElement('div');\n",
              "          docLink.innerHTML = docLinkHtml;\n",
              "          element.appendChild(docLink);\n",
              "        }\n",
              "      </script>\n",
              "    </div>\n",
              "  </div>\n",
              "  "
            ]
          },
          "metadata": {},
          "execution_count": 18
        }
      ]
    },
    {
      "cell_type": "code",
      "source": [
        "#what are the units of measure listed"
      ],
      "metadata": {
        "id": "VNAtmMEdE3eP"
      },
      "execution_count": 19,
      "outputs": []
    },
    {
      "cell_type": "code",
      "source": [
        "print(df['Units of Measure'].unique())"
      ],
      "metadata": {
        "colab": {
          "base_uri": "https://localhost:8080/"
        },
        "id": "WhzZMt5GFVyp",
        "outputId": "2607c8d4-e8e1-4ad7-a915-1d4348a742d2"
      },
      "execution_count": 20,
      "outputs": [
        {
          "output_type": "stream",
          "name": "stdout",
          "text": [
            "['Parts per million' 'Micrograms/cubic meter (LC)' 'Knots'\n",
            " 'Degrees Compass' 'Degrees Fahrenheit' 'Percent relative humidity'\n",
            " 'Langleys/minute' 'Millibars' 'Inches (rainfall)' 'Parts per billion'\n",
            " 'Cubic meter' 'Degrees Centigrade' 'Millimeters (mercury)' 'Percent'\n",
            " 'Micrograms/cubic meter (25 C)' 'Minutes' 'Parts per billion Carbon'\n",
            " 'Nanograms/cubic meter (25 C)' 'Nanograms/cubic meter (LC)'\n",
            " 'COHS/1,000 linear feet' 'Beta Scatter' 'Temp Difference, Centigrade '\n",
            " 'Watts/sq meter' 'Count per cm^3' 'Meters' 'Miles (visibility)'\n",
            " 'Parts per million Carbon' 'Pasquill-Gifford stability class']\n"
          ]
        }
      ]
    },
    {
      "cell_type": "code",
      "source": [
        "#what parameters / pollutants are being measured in this data?"
      ],
      "metadata": {
        "id": "8rIq6C_YGmi4"
      },
      "execution_count": 23,
      "outputs": []
    },
    {
      "cell_type": "code",
      "source": [
        "df['Parameter Name'].sort_values().unique()"
      ],
      "metadata": {
        "colab": {
          "base_uri": "https://localhost:8080/"
        },
        "id": "2YijT_5WGV96",
        "outputId": "5c95d338-ee76-4068-d044-84b2e5778b91"
      },
      "execution_count": 22,
      "outputs": [
        {
          "output_type": "execute_result",
          "data": {
            "text/plain": [
              "array(['1,1,1,2,2-Pentafluoroethane', '1,1,1,2-Tetrachloroethane',\n",
              "       '1,1,2,2-Tetrachloroethane',\n",
              "       '1,1,2-Trichloro-1,2,2-trifluoroethane', '1,1,2-Trichloroethane',\n",
              "       '1,1-Dichloroethane', '1,1-Dichloroethylene', '1,1-Difluoroethane',\n",
              "       '1,2,3-Trimethylbenzene', '1,2,4-Trichlorobenzene',\n",
              "       '1,2,4-Trimethylbenzene', '1,2-Dichlorobenzene',\n",
              "       '1,2-Dichloropropane', '1,3,5-Trimethylbenzene', '1,3-Butadiene',\n",
              "       '1,3-Dichlorobenzene', '1,3-Dichloropropene(total)',\n",
              "       '1,4-Dichlorobenzene', '1,4-Dioxane', '1-Butene', '1-Heptene',\n",
              "       '1-Hexene', '1-Hexene & 2-Methyl-1-pentene', '1-Methylnapthalene',\n",
              "       '1-Nonene', '1-Octene', '1-Pentene', '1-Undecene',\n",
              "       '2,2,4-Trimethylpentane', '2,2-Dimethylbutane',\n",
              "       '2,3,4-Trimethylpentane', '2,3-Dimethylbutane',\n",
              "       '2,3-Dimethylpentane', '2,4-Dimethylpentane',\n",
              "       '2,5-Dimethylbenzaldehyde', '2,7-dimethylnaphthalene (TSP) STP',\n",
              "       '2-2-3-Trimethylpentane', '2-Chloropentane', '2-Ethyl-1-butene',\n",
              "       '2-Methyl-1-butene', '2-Methyl-1-pentene', '2-Methyl-2-butene',\n",
              "       '2-Methylheptane', '2-Methylhexane',\n",
              "       '2-Methylnaphthalene (TSP) STP', '2-Methylpentane', '2-Pentanone',\n",
              "       '2-Propanol', '2-chlorotoluene', '3-Chloropropene', '3-Hexanone',\n",
              "       '3-Methyl-1-butene', '3-Methylheptane', '3-Methylhexane',\n",
              "       '3-Methylpentane', '3-Pentanone', '4-Methyl-1-pentene',\n",
              "       '9-fluorenone (TSP) STP', 'Acceptable PM2.5 AQI & Speciation Mass',\n",
              "       'Acenaphthene (TSP) STP', 'Acenaphthylene (TSP) STP',\n",
              "       'Acetaldehyde', 'Acetone', 'Acetonitrile', 'Acetylene',\n",
              "       'Acrolein - Unverified', 'Acrolein - Verified', 'Acrylonitrile',\n",
              "       'Aluminum PM10 LC', 'Aluminum PM2.5 LC', 'Ambient Max Temperature',\n",
              "       'Ambient Min Temperature', 'Ammonia', 'Ammonium Ion PM2.5 LC',\n",
              "       'Ammonium Nitrate PM2.5 LC', 'Ammonium Sulfate PM2.5 LC',\n",
              "       'Anthracene (TSP) STP', 'Antimony (TSP) STP', 'Antimony PM10 LC',\n",
              "       'Antimony PM10 STP', 'Antimony PM2.5 LC', 'Arsenic (TSP) LC',\n",
              "       'Arsenic (TSP) STP', 'Arsenic PM10 LC', 'Arsenic PM10 STP',\n",
              "       'Arsenic PM2.5 LC', 'Atmospheric Stability',\n",
              "       'Average Ambient Pressure',\n",
              "       'Average Ambient Pressure for URG3000N',\n",
              "       'Average Ambient Temperature',\n",
              "       'Average Ambient Temperature for URG3000N', 'Barium (TSP) STP',\n",
              "       'Barium PM10 LC', 'Barium PM10 STP', 'Barium PM2.5 LC',\n",
              "       'Barometric pressure', 'Benzaldehyde', 'Benzene',\n",
              "       'Benzene, 1-ethenyl-4-methyl', 'Benzo[a]anthracene (TSP) STP',\n",
              "       'Benzo[a]pyrene (TSP) STP', 'Benzo[b]fluoranthene (TSP) STP',\n",
              "       'Benzo[e]pyrene (TSP) STP', 'Benzo[g,h,i]perylene (TSP) STP',\n",
              "       'Benzo[k]fluoranthene (TSP) STP', 'Benzyl chloride',\n",
              "       'Beryllium (TSP) LC', 'Beryllium (TSP) STP', 'Beryllium PM10 LC',\n",
              "       'Beryllium PM10 STP', 'Black Carbon  PM2.5 Corrected',\n",
              "       'Black Carbon PM2.5 at 880 nm', 'Black carbon PM2.5 STP',\n",
              "       'Bromine PM10 LC', 'Bromine PM2.5 LC', 'Bromochloromethane',\n",
              "       'Bromodichloromethane', 'Bromoform', 'Bromomethane',\n",
              "       'Butryl-aldehyde & Methyl Ethyl Ketone', 'Butyl benzene',\n",
              "       'Butyraldehyde', 'Butyraldehyde & isobutyraldehyde',\n",
              "       'Cadmium (TSP) LC', 'Cadmium (TSP) STP', 'Cadmium PM10 LC',\n",
              "       'Cadmium PM10 STP', 'Cadmium PM2.5 LC', 'Calcium PM10 LC',\n",
              "       'Calcium PM2.5 LC', 'Carbon Tetrafluoride', 'Carbon dioxide',\n",
              "       'Carbon disulfide', 'Carbon monoxide', 'Carbon tetrachloride',\n",
              "       'Cerium PM2.5 LC', 'Cesium PM2.5 LC', 'Chloride PM10 STP',\n",
              "       'Chloride PM2.5 LC', 'Chlorine PM10 LC', 'Chlorine PM2.5 LC',\n",
              "       'Chlorobenzene', 'Chlorodifluoromethane', 'Chloroethane',\n",
              "       'Chloroform', 'Chloromethane', 'Chloroprene', 'Chromium (TSP) LC',\n",
              "       'Chromium (TSP) STP', 'Chromium PM10 LC', 'Chromium PM10 STP',\n",
              "       'Chromium PM2.5 LC', 'Chromium VI (TSP) LC',\n",
              "       'Chromium VI (TSP) STP', 'Chrysene (TSP) STP', 'Cobalt (TSP) STP',\n",
              "       'Cobalt PM10 LC', 'Cobalt PM10 STP', 'Cobalt PM2.5 LC',\n",
              "       'Copper (TSP) STP', 'Copper PM10 LC', 'Copper PM10 STP',\n",
              "       'Copper PM2.5 LC', 'Coronene (TSP) STP', 'Crotonaldehyde',\n",
              "       'Cyclohexane', 'Cyclopenta[cd]pyrene (TSP) STP', 'Cyclopentane',\n",
              "       'Cyclopentene', 'Dew Point', 'Dibenzo[a,h]anthracene (TSP) STP',\n",
              "       'Dibromochloromethane', 'Dibromomethane',\n",
              "       'Dichlorodifluoromethane', 'Dichloromethane',\n",
              "       'Dichlorotetrafluoroethane', 'Dodecene', 'EC CSN PM2.5 LC TOT',\n",
              "       'EC CSN_Rev Unadjusted PM2.5 LC TOR',\n",
              "       'EC CSN_Rev Unadjusted PM2.5 LC TOT', 'EC PM2.5 LC TOR',\n",
              "       'EC PM2.5 LC TOT', 'EC1 CSN_Rev Unadjusted PM2.5 LC',\n",
              "       'EC1 PM2.5 LC', 'EC2 CSN_Rev Unadjusted PM2.5 LC', 'EC2 PM2.5 LC',\n",
              "       'EC3 CSN_Rev Unadjusted PM2.5 LC', 'EC3 PM2.5 LC',\n",
              "       'Elapsed Sample Time', 'Ethane', 'Ethyl acetate', 'Ethyl acrylate',\n",
              "       'Ethyl alcohol', 'Ethylbenzene', 'Ethylene', 'Ethylene dibromide',\n",
              "       'Ethylene dichloride', 'Ethylene oxide', 'Europium PM2.5 LC',\n",
              "       'Fluoranthene (TSP) STP', 'Fluorene (TSP) STP', 'Formaldehyde',\n",
              "       'Freon 113', 'Freon 114', 'Furan, tetrahydro-',\n",
              "       'Galactosan PM2.5 LC', 'Gallium PM2.5 LC', 'Gold PM2.5 LC',\n",
              "       'Hafnium PM2.5 LC', 'Halocarbon 134a', 'Heptanal', 'Heptane',\n",
              "       'Hexachlorobutadiene', 'Hexanaldehyde', 'Hydrogen sulfide',\n",
              "       'Indeno[1,2,3-cd]pyrene (TSP) STP', 'Indium PM2.5 LC',\n",
              "       'Indoor Temperature', 'Infrared PM 2.5 Carbon at 950 nm',\n",
              "       'Iridium PM2.5 LC', 'Iron (TSP) LC', 'Iron (TSP) STP',\n",
              "       'Iron PM10 LC', 'Iron PM10 STP', 'Iron PM2.5 LC', 'Isobutane',\n",
              "       'Isobutene', 'Isopentane', 'Isoprene', 'Isopropylbenzene',\n",
              "       'Isovaleraldehyde', 'Lanthanum PM2.5 LC', 'Lead (TSP) LC',\n",
              "       'Lead (TSP) LC Non-FRM/FEM', 'Lead (TSP) STP', 'Lead PM10 LC',\n",
              "       'Lead PM10 LC FRM/FEM', 'Lead PM10 STP', 'Lead PM2.5 LC',\n",
              "       'Levoglucosan PM2.5 LC', 'Light scatter',\n",
              "       'Light scatter (miles visibility)', 'Magnesium PM2.5 LC',\n",
              "       'Manganese (TSP) LC', 'Manganese (TSP) STP', 'Manganese PM10 LC',\n",
              "       'Manganese PM10 STP', 'Manganese PM2.5 LC', 'Mannosan PM2.5 LC',\n",
              "       'Mercury (TSP) LC', 'Mercury (TSP) STP', 'Mercury (vapor)',\n",
              "       'Mercury PM10 LC', 'Mercury PM10 STP', 'Mercury PM2.5 LC',\n",
              "       'Methacrolein', 'Methane', 'Methyl Butyl Ketone', 'Methyl Iodide',\n",
              "       'Methyl Vinyl Ketone', 'Methyl chloroform', 'Methyl ethyl ketone',\n",
              "       'Methyl isobutyl ketone', 'Methyl methacrylate',\n",
              "       'Methyl tert-butyl ether', 'Methylcyclohexane',\n",
              "       'Methylcyclopentane', 'Mixing Height', 'Molybdenum (TSP) STP',\n",
              "       'Molybdenum PM10 LC', 'Molybdenum PM10 STP ',\n",
              "       'Molybdenum PM2.5 LC', 'NITROUS OXIDE', 'NOy - NO', 'Naphthalene',\n",
              "       'Naphthalene (TSP) STP', 'Net radiation', 'Nickel (TSP) LC',\n",
              "       'Nickel (TSP) STP', 'Nickel PM10 LC', 'Nickel PM10 STP',\n",
              "       'Nickel PM2.5 LC', 'Niobium PM2.5 LC', 'Nitrate PM10 STP',\n",
              "       'Nitric oxide (NO)', 'Nitrite PM2.5 LC', 'Nitrogen dioxide (NO2)',\n",
              "       'Non-volatile Nitrate PM2.5 LC', 'OC CSN Unadjusted PM2.5 LC TOT',\n",
              "       'OC CSN_Rev Unadjusted PM2.5 LC TOR',\n",
              "       'OC CSN_Rev Unadjusted PM2.5 LC TOT', 'OC PM2.5 LC TOR',\n",
              "       'OC PM2.5 LC TOT', 'OC1 CSN_Rev Unadjusted PM2.5 LC',\n",
              "       'OC1 PM2.5 LC', 'OC2 CSN_Rev Unadjusted PM2.5 LC', 'OC2 PM2.5 LC',\n",
              "       'OC3 CSN_Rev Unadjusted PM2.5 LC', 'OC3 PM2.5 LC',\n",
              "       'OC4 CSN_Rev Unadjusted PM2.5 LC', 'OC4 PM2.5 LC',\n",
              "       'OP CSN_Rev Unadjusted PM2.5 LC TOR',\n",
              "       'OP CSN_Rev Unadjusted PM2.5 LC TOT', 'OP PM2.5 LC TOR',\n",
              "       'OP PM2.5 LC TOT', 'Optical EC PM2.5 LC TOT',\n",
              "       'Organic Carbon Mass PM2.5 LC', 'Outdoor Temperature',\n",
              "       'Oxides of nitrogen (NOx)', 'Ozone', 'PM 2.5 Carbon at 470 nm',\n",
              "       'PM 2.5 Carbon at 520 nm', 'PM 2.5 Carbon at 590 nm',\n",
              "       'PM 2.5 Carbon at 660 nm', 'PM1 - Local Conditions', 'PM10 - LC',\n",
              "       'PM10 Total 0-10um STP', 'PM10-2.5 - Local Conditions',\n",
              "       'PM10-2.5 STP', 'PM2.5 - Local Conditions',\n",
              "       'PM2.5 Carbon at 430 nm', 'PM2.5 Carbon at 525 nm',\n",
              "       'PM2.5 Carbon at 565 nm', 'PM2.5 Carbon at 700 nm',\n",
              "       'PM2.5 Raw Data', 'PM2.5 Total Atmospheric',\n",
              "       'PM2.5 Volatile Channel', 'Particle Number, 100-200 nm',\n",
              "       'Particle Number, 20-30 nm', 'Particle Number, 30-50 nm',\n",
              "       'Particle Number, 50-70 nm', 'Particle Number, 70-100 nm',\n",
              "       'Particle Number, > 200 nm', 'Particle Number, Total Count',\n",
              "       'Peak Wind Gust', 'Perylene (TSP) STP', 'Phenanthrene (TSP) STP',\n",
              "       'Phosphorus PM10 LC', 'Phosphorus PM2.5 LC',\n",
              "       'Polynuclear aromatic hydrocarbons (TSP) STP',\n",
              "       'Potassium Ion PM2.5 LC', 'Potassium PM10 LC',\n",
              "       'Potassium PM2.5 LC', 'Propane', 'Propionaldehyde', 'Propylene',\n",
              "       'Propyne', 'Pyrene (TSP) STP', 'Rain 24hr total',\n",
              "       'Rain/melt precipitation', 'Reactive oxides of nitrogen (NOy)',\n",
              "       'Reconstructed Mass PM2.5 LC', 'Relative Humidity ',\n",
              "       'Retene (TSP) STP', 'Rubidium PM10 LC', 'Rubidium PM2.5 LC',\n",
              "       'SO2 max 5-min avg', 'Samarium PM2.5 LC',\n",
              "       'Sample Flow Rate CV - Nylon Filter',\n",
              "       'Sample Flow Rate CV - Quartz Filter',\n",
              "       'Sample Flow Rate CV - Teflon Filter', 'Sample Flow Rate- CV',\n",
              "       'Sample Max Baro Pressure', 'Sample Min Baro Pressure',\n",
              "       'Sample Volume', 'Sample Volume - Nylon Filter',\n",
              "       'Sample Volume - Quartz Filter', 'Sample Volume - Teflon Filter',\n",
              "       'Scandium PM2.5 LC', 'Selenium (TSP) STP', 'Selenium PM10 LC',\n",
              "       'Selenium PM10 STP', 'Selenium PM2.5 LC', 'Silicon PM10 LC',\n",
              "       'Silicon PM2.5 LC', 'Silver PM10 LC', 'Silver PM2.5 LC',\n",
              "       'Sodium Ion Pm2.5 LC', 'Sodium PM2.5 LC', 'Soil PM2.5 LC',\n",
              "       'Soil index (COH)', 'Solar radiation', 'Std Dev Hz Wind Direction',\n",
              "       'Std Dev Hz Wind Speed', 'Std Dev Vt Wind Direction',\n",
              "       'Std Dev Vt Wind Speed', 'Strontium (TSP) STP',\n",
              "       'Strontium PM10 LC', 'Strontium PM2.5 LC', 'Styrene',\n",
              "       'Sulfate PM10 STP', 'Sulfate PM2.5 LC', 'Sulfur PM10 LC',\n",
              "       'Sulfur PM2.5 LC', 'Sulfur dioxide',\n",
              "       'Sum of PAMS target compounds', 'Suspended particulate (TSP)',\n",
              "       'Tantalum PM2.5 LC', 'Temperature Difference', 'Terbium PM2.5 LC',\n",
              "       'Tert-amyl methyl ether', 'Tetrachloroethylene', 'Tin (TSP) STP',\n",
              "       'Tin PM10 LC', 'Tin PM2.5 LC', 'Titanium (TSP) STP',\n",
              "       'Titanium PM10 LC', 'Titanium PM2.5 LC', 'Tolualdehydes',\n",
              "       'Toluene', 'Total Carbon PM2.5 LC TOT',\n",
              "       'Total NMOC (non-methane organic compound)',\n",
              "       'Total Nitrate PM2.5 LC', 'Total hydrocarbons',\n",
              "       'Total reduced sulfur', 'Trans-Crotonaldehyde',\n",
              "       'Trichloroethylene', 'Trichlorofluoromethane', 'Tridecene',\n",
              "       'Tungsten PM2.5 LC', 'UV Carbon PM2.5 STP',\n",
              "       'UV Carbon PM2.5 at 370 nm', 'Ultraviolet radiation',\n",
              "       'Ultraviolet radiation (type B)', 'Unidentified VOC',\n",
              "       'Uranium PM2.5 LC', 'Valeraldehyde', 'Vanadium (TSP) STP',\n",
              "       'Vanadium PM10 LC', 'Vanadium PM10 STP', 'Vanadium PM2.5 LC',\n",
              "       'Vert Wind Direction', 'Vertical Wind Speed', 'Vinyl acetate',\n",
              "       'Vinyl bromide', 'Vinyl chloride', 'Virtual Temperature',\n",
              "       'Visibility', 'Wind Direction - Resultant',\n",
              "       'Wind Direction - Scalar', 'Wind Speed - Resultant',\n",
              "       'Wind Speed - Scalar', 'Xylene(s)', 'Yttrium PM10 LC',\n",
              "       'Yttrium PM2.5 LC', 'Zinc (TSP) LC', 'Zinc (TSP) STP',\n",
              "       'Zinc PM10 LC', 'Zinc PM10 STP', 'Zinc PM2.5 LC',\n",
              "       'Zirconium (TSP) STP', 'Zirconium PM2.5 LC', 'alpha.-Pinene',\n",
              "       'beta.-Pinene', 'cis-1,2-Dichloroethene',\n",
              "       'cis-1,3-Dichloropropene', 'cis-2-Butene', 'cis-2-Hexene',\n",
              "       'cis-2-Pentene', 'dichlorofluoromethane', 'm & p-Tolualdehyde',\n",
              "       'm-Diethylbenzene', 'm-Ethyltoluene', 'm-Tolualdehyde',\n",
              "       'm/p Xylene', 'n-Butane', 'n-Decane', 'n-Dodecane', 'n-Heptane',\n",
              "       'n-Hexane', 'n-Nonane', 'n-Octane', 'n-Pentane', 'n-Propylbenzene',\n",
              "       'n-Tridecane', 'n-Undecane', 'o-Ethyltoluene', 'o-Tolualdehyde',\n",
              "       'o-Xylene', 'p-Diethylbenzene', 'p-Ethyltoluene', 'p-Tolualdehyde',\n",
              "       'tert-Butyl ethyl ether', 'tert-butyl alcohol',\n",
              "       'trans-1,2-Dichloroethylene', 'trans-1,3-Dichloropropene',\n",
              "       'trans-2-Butene', 'trans-2-Hexene', 'trans-2-Pentene'],\n",
              "      dtype=object)"
            ]
          },
          "metadata": {},
          "execution_count": 22
        }
      ]
    },
    {
      "cell_type": "code",
      "source": [
        "#What will be the impact of removing all other paramaters except for major toxins?"
      ],
      "metadata": {
        "id": "jcXUXxP6GcfZ"
      },
      "execution_count": 29,
      "outputs": []
    },
    {
      "cell_type": "code",
      "source": [
        "df['Arithmetic Mean'].mean()"
      ],
      "metadata": {
        "colab": {
          "base_uri": "https://localhost:8080/"
        },
        "id": "YAq8hU12HTZr",
        "outputId": "7a6ffc64-ebc5-4cdb-d4cf-a4d68212d5ed"
      },
      "execution_count": 25,
      "outputs": [
        {
          "output_type": "execute_result",
          "data": {
            "text/plain": [
              "39.03338140922511"
            ]
          },
          "metadata": {},
          "execution_count": 25
        }
      ]
    },
    {
      "cell_type": "code",
      "source": [
        "df['Arithmetic Mean'].median()"
      ],
      "metadata": {
        "colab": {
          "base_uri": "https://localhost:8080/"
        },
        "id": "qC2sIMVvHg7Q",
        "outputId": "2e89ab86-6792-4b5f-a11a-e5515a2ded40"
      },
      "execution_count": 26,
      "outputs": [
        {
          "output_type": "execute_result",
          "data": {
            "text/plain": [
              "0.4677065"
            ]
          },
          "metadata": {},
          "execution_count": 26
        }
      ]
    },
    {
      "cell_type": "code",
      "source": [
        "toxins = ['Carbon dioxide', 'Nitrogen dioxide (NO2)', 'Sulfur dioxide', 'Ozone']\n",
        "toxin_df = df.loc[df['Parameter Name'].isin(toxins)]\n",
        "toxin_df['Arithmetic Mean'].mean()"
      ],
      "metadata": {
        "colab": {
          "base_uri": "https://localhost:8080/"
        },
        "id": "mxCIVDACH7W_",
        "outputId": "5e9d8061-bf1b-4fb9-cad2-afdb89dc5d74"
      },
      "execution_count": 27,
      "outputs": [
        {
          "output_type": "execute_result",
          "data": {
            "text/plain": [
              "1.9712951960471812"
            ]
          },
          "metadata": {},
          "execution_count": 27
        }
      ]
    },
    {
      "cell_type": "code",
      "source": [
        "toxin_df['Arithmetic Mean'].median()"
      ],
      "metadata": {
        "colab": {
          "base_uri": "https://localhost:8080/"
        },
        "id": "e0SNQjrWKCOl",
        "outputId": "b85257f6-ee24-489a-eb1d-962b9d4e4d0b"
      },
      "execution_count": 28,
      "outputs": [
        {
          "output_type": "execute_result",
          "data": {
            "text/plain": [
              "0.046859"
            ]
          },
          "metadata": {},
          "execution_count": 28
        }
      ]
    },
    {
      "cell_type": "code",
      "source": [
        "#remove unwanted columns"
      ],
      "metadata": {
        "id": "SUMFykuzKYGf"
      },
      "execution_count": 31,
      "outputs": []
    },
    {
      "cell_type": "code",
      "source": [
        "toxin_df.info()"
      ],
      "metadata": {
        "colab": {
          "base_uri": "https://localhost:8080/"
        },
        "id": "AkiOFaq1KdBe",
        "outputId": "222a39f4-9c76-46a3-edee-7a882ebc24c5"
      },
      "execution_count": 32,
      "outputs": [
        {
          "output_type": "stream",
          "name": "stdout",
          "text": [
            "<class 'pandas.core.frame.DataFrame'>\n",
            "Int64Index: 33901 entries, 0 to 73258\n",
            "Data columns (total 55 columns):\n",
            " #   Column                         Non-Null Count  Dtype  \n",
            "---  ------                         --------------  -----  \n",
            " 0   State Code                     33901 non-null  int64  \n",
            " 1   County Code                    33901 non-null  int64  \n",
            " 2   Site Num                       33901 non-null  int64  \n",
            " 3   Parameter Code                 33901 non-null  int64  \n",
            " 4   POC                            33901 non-null  int64  \n",
            " 5   Latitude                       33901 non-null  float64\n",
            " 6   Longitude                      33901 non-null  float64\n",
            " 7   Datum                          33901 non-null  object \n",
            " 8   Parameter Name                 33901 non-null  object \n",
            " 9   Sample Duration                33901 non-null  object \n",
            " 10  Pollutant Standard             32875 non-null  object \n",
            " 11  Metric Used                    33901 non-null  object \n",
            " 12  Method Name                    14365 non-null  object \n",
            " 13  Year                           33901 non-null  int64  \n",
            " 14  Units of Measure               33901 non-null  object \n",
            " 15  Event Type                     33901 non-null  object \n",
            " 16  Observation Count              33901 non-null  int64  \n",
            " 17  Observation Percent            33901 non-null  int64  \n",
            " 18  Completeness Indicator         33901 non-null  object \n",
            " 19  Valid Day Count                33901 non-null  int64  \n",
            " 20  Required Day Count             33901 non-null  int64  \n",
            " 21  Exceptional Data Count         33901 non-null  int64  \n",
            " 22  Null Data Count                33901 non-null  int64  \n",
            " 23  Primary Exceedance Count       27189 non-null  float64\n",
            " 24  Secondary Exceedance Count     23396 non-null  float64\n",
            " 25  Certification Indicator        33901 non-null  object \n",
            " 26  Num Obs Below MDL              33901 non-null  int64  \n",
            " 27  Arithmetic Mean                33900 non-null  float64\n",
            " 28  Arithmetic Standard Dev        33900 non-null  float64\n",
            " 29  1st Max Value                  33900 non-null  float64\n",
            " 30  1st Max DateTime               33900 non-null  object \n",
            " 31  2nd Max Value                  33896 non-null  float64\n",
            " 32  2nd Max DateTime               33896 non-null  object \n",
            " 33  3rd Max Value                  33895 non-null  float64\n",
            " 34  3rd Max DateTime               33895 non-null  object \n",
            " 35  4th Max Value                  33895 non-null  float64\n",
            " 36  4th Max DateTime               33895 non-null  object \n",
            " 37  1st Max Non Overlapping Value  0 non-null      float64\n",
            " 38  1st NO Max DateTime            0 non-null      object \n",
            " 39  2nd Max Non Overlapping Value  0 non-null      float64\n",
            " 40  2nd NO Max DateTime            0 non-null      object \n",
            " 41  99th Percentile                33901 non-null  float64\n",
            " 42  98th Percentile                33901 non-null  float64\n",
            " 43  95th Percentile                33901 non-null  float64\n",
            " 44  90th Percentile                33901 non-null  float64\n",
            " 45  75th Percentile                33901 non-null  float64\n",
            " 46  50th Percentile                33901 non-null  float64\n",
            " 47  10th Percentile                33901 non-null  float64\n",
            " 48  Local Site Name                31939 non-null  object \n",
            " 49  Address                        33877 non-null  object \n",
            " 50  State Name                     33901 non-null  object \n",
            " 51  County Name                    33901 non-null  object \n",
            " 52  City Name                      24919 non-null  object \n",
            " 53  CBSA Name                      30733 non-null  object \n",
            " 54  Date of Last Change            33901 non-null  object \n",
            "dtypes: float64(19), int64(13), object(23)\n",
            "memory usage: 14.5+ MB\n"
          ]
        }
      ]
    },
    {
      "cell_type": "code",
      "source": [
        "toxin_df.drop(toxin_df.columns[[4, 7, 16, 17, 18, 19, 20, 21, 22, 23, 24, 25, 26, 37, 38, 39, 40, 48, 49]], axis = 1, inplace= True )"
      ],
      "metadata": {
        "colab": {
          "base_uri": "https://localhost:8080/"
        },
        "id": "7yTkKabEK3am",
        "outputId": "cb22bf15-8bc0-4262-a60b-6226e5b7e176"
      },
      "execution_count": 33,
      "outputs": [
        {
          "output_type": "stream",
          "name": "stderr",
          "text": [
            "/usr/local/lib/python3.7/dist-packages/pandas/core/frame.py:4913: SettingWithCopyWarning: \n",
            "A value is trying to be set on a copy of a slice from a DataFrame\n",
            "\n",
            "See the caveats in the documentation: https://pandas.pydata.org/pandas-docs/stable/user_guide/indexing.html#returning-a-view-versus-a-copy\n",
            "  errors=errors,\n"
          ]
        }
      ]
    },
    {
      "cell_type": "code",
      "source": [
        "toxin_df.info()"
      ],
      "metadata": {
        "colab": {
          "base_uri": "https://localhost:8080/"
        },
        "id": "FrzkSP65MZIh",
        "outputId": "c1930d1d-7c79-49fb-a5e0-ac6579079949"
      },
      "execution_count": 34,
      "outputs": [
        {
          "output_type": "stream",
          "name": "stdout",
          "text": [
            "<class 'pandas.core.frame.DataFrame'>\n",
            "Int64Index: 33901 entries, 0 to 73258\n",
            "Data columns (total 36 columns):\n",
            " #   Column                   Non-Null Count  Dtype  \n",
            "---  ------                   --------------  -----  \n",
            " 0   State Code               33901 non-null  int64  \n",
            " 1   County Code              33901 non-null  int64  \n",
            " 2   Site Num                 33901 non-null  int64  \n",
            " 3   Parameter Code           33901 non-null  int64  \n",
            " 4   Latitude                 33901 non-null  float64\n",
            " 5   Longitude                33901 non-null  float64\n",
            " 6   Parameter Name           33901 non-null  object \n",
            " 7   Sample Duration          33901 non-null  object \n",
            " 8   Pollutant Standard       32875 non-null  object \n",
            " 9   Metric Used              33901 non-null  object \n",
            " 10  Method Name              14365 non-null  object \n",
            " 11  Year                     33901 non-null  int64  \n",
            " 12  Units of Measure         33901 non-null  object \n",
            " 13  Event Type               33901 non-null  object \n",
            " 14  Arithmetic Mean          33900 non-null  float64\n",
            " 15  Arithmetic Standard Dev  33900 non-null  float64\n",
            " 16  1st Max Value            33900 non-null  float64\n",
            " 17  1st Max DateTime         33900 non-null  object \n",
            " 18  2nd Max Value            33896 non-null  float64\n",
            " 19  2nd Max DateTime         33896 non-null  object \n",
            " 20  3rd Max Value            33895 non-null  float64\n",
            " 21  3rd Max DateTime         33895 non-null  object \n",
            " 22  4th Max Value            33895 non-null  float64\n",
            " 23  4th Max DateTime         33895 non-null  object \n",
            " 24  99th Percentile          33901 non-null  float64\n",
            " 25  98th Percentile          33901 non-null  float64\n",
            " 26  95th Percentile          33901 non-null  float64\n",
            " 27  90th Percentile          33901 non-null  float64\n",
            " 28  75th Percentile          33901 non-null  float64\n",
            " 29  50th Percentile          33901 non-null  float64\n",
            " 30  10th Percentile          33901 non-null  float64\n",
            " 31  State Name               33901 non-null  object \n",
            " 32  County Name              33901 non-null  object \n",
            " 33  City Name                24919 non-null  object \n",
            " 34  CBSA Name                30733 non-null  object \n",
            " 35  Date of Last Change      33901 non-null  object \n",
            "dtypes: float64(15), int64(5), object(16)\n",
            "memory usage: 9.6+ MB\n"
          ]
        }
      ]
    },
    {
      "cell_type": "code",
      "source": [
        "#rename columns"
      ],
      "metadata": {
        "id": "-3xMP3vGMh4C"
      },
      "execution_count": 36,
      "outputs": []
    },
    {
      "cell_type": "code",
      "source": [
        "toxin_df.rename(columns = {'State Name': 'State','County Name': 'County', 'City Name': 'City'}, inplace = True)"
      ],
      "metadata": {
        "colab": {
          "base_uri": "https://localhost:8080/"
        },
        "id": "rV6LL-HDM2i4",
        "outputId": "0728ae68-01aa-4dfc-b205-774594b80e12"
      },
      "execution_count": 37,
      "outputs": [
        {
          "output_type": "stream",
          "name": "stderr",
          "text": [
            "/usr/local/lib/python3.7/dist-packages/pandas/core/frame.py:5047: SettingWithCopyWarning: \n",
            "A value is trying to be set on a copy of a slice from a DataFrame\n",
            "\n",
            "See the caveats in the documentation: https://pandas.pydata.org/pandas-docs/stable/user_guide/indexing.html#returning-a-view-versus-a-copy\n",
            "  errors=errors,\n"
          ]
        }
      ]
    },
    {
      "cell_type": "code",
      "source": [
        "toxin_df.info()"
      ],
      "metadata": {
        "colab": {
          "base_uri": "https://localhost:8080/"
        },
        "id": "t7s0QzROM_Gc",
        "outputId": "7ae42be7-821b-47bf-cba4-4e922347aca1"
      },
      "execution_count": 38,
      "outputs": [
        {
          "output_type": "stream",
          "name": "stdout",
          "text": [
            "<class 'pandas.core.frame.DataFrame'>\n",
            "Int64Index: 33901 entries, 0 to 73258\n",
            "Data columns (total 36 columns):\n",
            " #   Column                   Non-Null Count  Dtype  \n",
            "---  ------                   --------------  -----  \n",
            " 0   State Code               33901 non-null  int64  \n",
            " 1   County Code              33901 non-null  int64  \n",
            " 2   Site Num                 33901 non-null  int64  \n",
            " 3   Parameter Code           33901 non-null  int64  \n",
            " 4   Latitude                 33901 non-null  float64\n",
            " 5   Longitude                33901 non-null  float64\n",
            " 6   Parameter Name           33901 non-null  object \n",
            " 7   Sample Duration          33901 non-null  object \n",
            " 8   Pollutant Standard       32875 non-null  object \n",
            " 9   Metric Used              33901 non-null  object \n",
            " 10  Method Name              14365 non-null  object \n",
            " 11  Year                     33901 non-null  int64  \n",
            " 12  Units of Measure         33901 non-null  object \n",
            " 13  Event Type               33901 non-null  object \n",
            " 14  Arithmetic Mean          33900 non-null  float64\n",
            " 15  Arithmetic Standard Dev  33900 non-null  float64\n",
            " 16  1st Max Value            33900 non-null  float64\n",
            " 17  1st Max DateTime         33900 non-null  object \n",
            " 18  2nd Max Value            33896 non-null  float64\n",
            " 19  2nd Max DateTime         33896 non-null  object \n",
            " 20  3rd Max Value            33895 non-null  float64\n",
            " 21  3rd Max DateTime         33895 non-null  object \n",
            " 22  4th Max Value            33895 non-null  float64\n",
            " 23  4th Max DateTime         33895 non-null  object \n",
            " 24  99th Percentile          33901 non-null  float64\n",
            " 25  98th Percentile          33901 non-null  float64\n",
            " 26  95th Percentile          33901 non-null  float64\n",
            " 27  90th Percentile          33901 non-null  float64\n",
            " 28  75th Percentile          33901 non-null  float64\n",
            " 29  50th Percentile          33901 non-null  float64\n",
            " 30  10th Percentile          33901 non-null  float64\n",
            " 31  State                    33901 non-null  object \n",
            " 32  County                   33901 non-null  object \n",
            " 33  City                     24919 non-null  object \n",
            " 34  CBSA Name                30733 non-null  object \n",
            " 35  Date of Last Change      33901 non-null  object \n",
            "dtypes: float64(15), int64(5), object(16)\n",
            "memory usage: 9.6+ MB\n"
          ]
        }
      ]
    },
    {
      "cell_type": "code",
      "source": [
        "#how does NY compare to country?"
      ],
      "metadata": {
        "id": "hPzNBKleNBl7"
      },
      "execution_count": 39,
      "outputs": []
    },
    {
      "cell_type": "code",
      "source": [
        "ny_toxin_df = toxin_df[toxin_df['State']== 'New York']"
      ],
      "metadata": {
        "id": "mf0lQeMtNG0t"
      },
      "execution_count": 41,
      "outputs": []
    },
    {
      "cell_type": "code",
      "source": [
        "ny_toxin_df.mean()"
      ],
      "metadata": {
        "colab": {
          "base_uri": "https://localhost:8080/"
        },
        "id": "73xc2wCpNkES",
        "outputId": "1e0d01c1-89e3-4127-f13f-306f1b9f5cd6"
      },
      "execution_count": 42,
      "outputs": [
        {
          "output_type": "stream",
          "name": "stderr",
          "text": [
            "/usr/local/lib/python3.7/dist-packages/ipykernel_launcher.py:1: FutureWarning: Dropping of nuisance columns in DataFrame reductions (with 'numeric_only=None') is deprecated; in a future version this will raise TypeError.  Select only valid columns before calling the reduction.\n",
            "  \"\"\"Entry point for launching an IPython kernel.\n"
          ]
        },
        {
          "output_type": "execute_result",
          "data": {
            "text/plain": [
              "State Code                    36.000000\n",
              "County Code                   57.280214\n",
              "Site Num                     656.363636\n",
              "Parameter Code             43345.233155\n",
              "Latitude                      42.341614\n",
              "Longitude                    -75.190377\n",
              "Year                        2019.440642\n",
              "Arithmetic Mean                1.376316\n",
              "Arithmetic Standard Dev        1.182152\n",
              "1st Max Value                 11.984356\n",
              "2nd Max Value                 10.550878\n",
              "3rd Max Value                  9.895795\n",
              "4th Max Value                  9.423040\n",
              "99th Percentile                5.591918\n",
              "98th Percentile                4.724302\n",
              "95th Percentile                3.561739\n",
              "90th Percentile                2.635422\n",
              "75th Percentile                1.678767\n",
              "50th Percentile                1.062636\n",
              "10th Percentile                0.477803\n",
              "dtype: float64"
            ]
          },
          "metadata": {},
          "execution_count": 42
        }
      ]
    },
    {
      "cell_type": "code",
      "source": [
        "ny_toxin_df.median()"
      ],
      "metadata": {
        "colab": {
          "base_uri": "https://localhost:8080/"
        },
        "id": "H65wS874NmOh",
        "outputId": "2acf3938-7fd6-476f-a87f-53cc01e0511c"
      },
      "execution_count": 43,
      "outputs": [
        {
          "output_type": "stream",
          "name": "stderr",
          "text": [
            "/usr/local/lib/python3.7/dist-packages/ipykernel_launcher.py:1: FutureWarning: Dropping of nuisance columns in DataFrame reductions (with 'numeric_only=None') is deprecated; in a future version this will raise TypeError.  Select only valid columns before calling the reduction.\n",
            "  \"\"\"Entry point for launching an IPython kernel.\n"
          ]
        },
        {
          "output_type": "execute_result",
          "data": {
            "text/plain": [
              "State Code                    36.000000\n",
              "County Code                   59.000000\n",
              "Site Num                       7.000000\n",
              "Parameter Code             44201.000000\n",
              "Latitude                      42.499630\n",
              "Longitude                    -74.198320\n",
              "Year                        2019.000000\n",
              "Arithmetic Mean                0.045908\n",
              "Arithmetic Standard Dev        0.014632\n",
              "1st Max Value                  0.107000\n",
              "2nd Max Value                  0.096000\n",
              "3rd Max Value                  0.091000\n",
              "4th Max Value                  0.088000\n",
              "99th Percentile                0.090000\n",
              "98th Percentile                0.086000\n",
              "95th Percentile                0.076000\n",
              "90th Percentile                0.067000\n",
              "75th Percentile                0.053000\n",
              "50th Percentile                0.043000\n",
              "10th Percentile                0.032000\n",
              "dtype: float64"
            ]
          },
          "metadata": {},
          "execution_count": 43
        }
      ]
    },
    {
      "cell_type": "code",
      "source": [
        "fl_toxin_df = toxin_df[toxin_df['State']== 'Florida']"
      ],
      "metadata": {
        "id": "VtZsBePZN18E"
      },
      "execution_count": 44,
      "outputs": []
    },
    {
      "cell_type": "code",
      "source": [
        "fl_toxin_df.mean()"
      ],
      "metadata": {
        "colab": {
          "base_uri": "https://localhost:8080/"
        },
        "id": "8gaqZCoSN85n",
        "outputId": "a12830c7-c80f-4a2b-f14c-3edf37a663cf"
      },
      "execution_count": 45,
      "outputs": [
        {
          "output_type": "stream",
          "name": "stderr",
          "text": [
            "/usr/local/lib/python3.7/dist-packages/ipykernel_launcher.py:1: FutureWarning: Dropping of nuisance columns in DataFrame reductions (with 'numeric_only=None') is deprecated; in a future version this will raise TypeError.  Select only valid columns before calling the reduction.\n",
            "  \"\"\"Entry point for launching an IPython kernel.\n"
          ]
        },
        {
          "output_type": "execute_result",
          "data": {
            "text/plain": [
              "State Code                    12.000000\n",
              "County Code                   68.291139\n",
              "Site Num                    1384.107595\n",
              "Parameter Code             43599.379747\n",
              "Latitude                      28.349798\n",
              "Longitude                    -82.217626\n",
              "Year                        2019.489451\n",
              "Arithmetic Mean                1.047288\n",
              "Arithmetic Standard Dev        0.840525\n",
              "1st Max Value                 13.932165\n",
              "2nd Max Value                  9.796353\n",
              "3rd Max Value                  8.380676\n",
              "4th Max Value                  7.476030\n",
              "99th Percentile                3.762978\n",
              "98th Percentile                3.135033\n",
              "95th Percentile                2.401595\n",
              "90th Percentile                1.916190\n",
              "75th Percentile                1.312033\n",
              "50th Percentile                0.874511\n",
              "10th Percentile                0.369447\n",
              "dtype: float64"
            ]
          },
          "metadata": {},
          "execution_count": 45
        }
      ]
    },
    {
      "cell_type": "code",
      "source": [
        "#How does FL compare to NY?"
      ],
      "metadata": {
        "id": "_1V7AS9ZOiHW"
      },
      "execution_count": 49,
      "outputs": []
    },
    {
      "cell_type": "code",
      "source": [
        "fl_toxin_df.median()"
      ],
      "metadata": {
        "colab": {
          "base_uri": "https://localhost:8080/"
        },
        "id": "hRmVumZxOAW8",
        "outputId": "93c81bee-06bf-4f34-8778-290908f7c3df"
      },
      "execution_count": 46,
      "outputs": [
        {
          "output_type": "stream",
          "name": "stderr",
          "text": [
            "/usr/local/lib/python3.7/dist-packages/ipykernel_launcher.py:1: FutureWarning: Dropping of nuisance columns in DataFrame reductions (with 'numeric_only=None') is deprecated; in a future version this will raise TypeError.  Select only valid columns before calling the reduction.\n",
            "  \"\"\"Entry point for launching an IPython kernel.\n"
          ]
        },
        {
          "output_type": "execute_result",
          "data": {
            "text/plain": [
              "State Code                    12.000000\n",
              "County Code                   77.000000\n",
              "Site Num                      35.000000\n",
              "Parameter Code             44201.000000\n",
              "Latitude                      28.028889\n",
              "Longitude                    -82.100646\n",
              "Year                        2019.000000\n",
              "Arithmetic Mean                0.039547\n",
              "Arithmetic Standard Dev        0.010698\n",
              "1st Max Value                  0.071000\n",
              "2nd Max Value                  0.069000\n",
              "3rd Max Value                  0.066000\n",
              "4th Max Value                  0.065000\n",
              "99th Percentile                0.066000\n",
              "98th Percentile                0.062000\n",
              "95th Percentile                0.058000\n",
              "90th Percentile                0.053000\n",
              "75th Percentile                0.047000\n",
              "50th Percentile                0.039000\n",
              "10th Percentile                0.026000\n",
              "dtype: float64"
            ]
          },
          "metadata": {},
          "execution_count": 46
        }
      ]
    },
    {
      "cell_type": "code",
      "source": [
        "#are all 4 toxins accounted for in the data for NY and FL?"
      ],
      "metadata": {
        "id": "3r-1o9xrOp1l"
      },
      "execution_count": 50,
      "outputs": []
    },
    {
      "cell_type": "code",
      "source": [
        "fl_toxin_df['Parameter Name'].sort_values().unique()"
      ],
      "metadata": {
        "colab": {
          "base_uri": "https://localhost:8080/"
        },
        "id": "NJTVEg_mOCE3",
        "outputId": "4a556307-166a-4dc6-a4cf-45ea5df25a6e"
      },
      "execution_count": 47,
      "outputs": [
        {
          "output_type": "execute_result",
          "data": {
            "text/plain": [
              "array(['Nitrogen dioxide (NO2)', 'Ozone', 'Sulfur dioxide'], dtype=object)"
            ]
          },
          "metadata": {},
          "execution_count": 47
        }
      ]
    },
    {
      "cell_type": "code",
      "source": [
        "ny_toxin_df['Parameter Name'].sort_values().unique()"
      ],
      "metadata": {
        "colab": {
          "base_uri": "https://localhost:8080/"
        },
        "id": "yfRC1v_xOcgV",
        "outputId": "0ce879dd-1b33-4d5b-f371-b1459d3a93b3"
      },
      "execution_count": 48,
      "outputs": [
        {
          "output_type": "execute_result",
          "data": {
            "text/plain": [
              "array(['Nitrogen dioxide (NO2)', 'Ozone', 'Sulfur dioxide'], dtype=object)"
            ]
          },
          "metadata": {},
          "execution_count": 48
        }
      ]
    },
    {
      "cell_type": "code",
      "source": [
        "#What is the overall annual data for NY and FL?"
      ],
      "metadata": {
        "id": "MtMPy3DEOzqm"
      },
      "execution_count": 51,
      "outputs": []
    },
    {
      "cell_type": "code",
      "source": [
        "ny_df = df[df['State Name']== 'New York']"
      ],
      "metadata": {
        "id": "32xYheZ1PAOi"
      },
      "execution_count": 53,
      "outputs": []
    },
    {
      "cell_type": "code",
      "source": [
        "fl_df = df[df['State Name']== 'Florida']"
      ],
      "metadata": {
        "id": "L3G1rDWnPNCe"
      },
      "execution_count": 54,
      "outputs": []
    },
    {
      "cell_type": "code",
      "source": [
        "ny_df.median()"
      ],
      "metadata": {
        "colab": {
          "base_uri": "https://localhost:8080/"
        },
        "id": "hEqRl1uRPaC-",
        "outputId": "db7b6d32-b294-40f7-fe4a-c2c671f2b912"
      },
      "execution_count": 55,
      "outputs": [
        {
          "output_type": "stream",
          "name": "stderr",
          "text": [
            "/usr/local/lib/python3.7/dist-packages/ipykernel_launcher.py:1: FutureWarning: Dropping of nuisance columns in DataFrame reductions (with 'numeric_only=None') is deprecated; in a future version this will raise TypeError.  Select only valid columns before calling the reduction.\n",
            "  \"\"\"Entry point for launching an IPython kernel.\n"
          ]
        },
        {
          "output_type": "execute_result",
          "data": {
            "text/plain": [
              "State Code                          36.000000\n",
              "County Code                         31.000000\n",
              "Site Num                           110.000000\n",
              "Parameter Code                   68101.000000\n",
              "POC                                  2.000000\n",
              "Latitude                            42.091420\n",
              "Longitude                          -73.920090\n",
              "Year                              2020.000000\n",
              "Observation Count                   60.000000\n",
              "Observation Percent                 90.000000\n",
              "Valid Day Count                     60.000000\n",
              "Required Day Count                 121.000000\n",
              "Exceptional Data Count               0.000000\n",
              "Null Data Count                      3.000000\n",
              "Primary Exceedance Count             0.000000\n",
              "Secondary Exceedance Count           0.000000\n",
              "Num Obs Below MDL                    0.000000\n",
              "Arithmetic Mean                      0.233898\n",
              "Arithmetic Standard Dev              0.128177\n",
              "1st Max Value                        0.900000\n",
              "2nd Max Value                        0.700000\n",
              "3rd Max Value                        0.600000\n",
              "4th Max Value                        0.588000\n",
              "1st Max Non Overlapping Value        0.900000\n",
              "2nd Max Non Overlapping Value        0.800000\n",
              "99th Percentile                      0.733000\n",
              "98th Percentile                      0.609000\n",
              "95th Percentile                      0.500000\n",
              "90th Percentile                      0.407000\n",
              "75th Percentile                      0.300000\n",
              "50th Percentile                      0.200000\n",
              "10th Percentile                      0.100000\n",
              "dtype: float64"
            ]
          },
          "metadata": {},
          "execution_count": 55
        }
      ]
    },
    {
      "cell_type": "code",
      "source": [
        "ny_df.mean()"
      ],
      "metadata": {
        "colab": {
          "base_uri": "https://localhost:8080/"
        },
        "id": "oqcc2WFYPeZe",
        "outputId": "406904a0-4f20-49a2-bf73-adde6e117784"
      },
      "execution_count": 56,
      "outputs": [
        {
          "output_type": "stream",
          "name": "stderr",
          "text": [
            "/usr/local/lib/python3.7/dist-packages/ipykernel_launcher.py:1: FutureWarning: Dropping of nuisance columns in DataFrame reductions (with 'numeric_only=None') is deprecated; in a future version this will raise TypeError.  Select only valid columns before calling the reduction.\n",
            "  \"\"\"Entry point for launching an IPython kernel.\n"
          ]
        },
        {
          "output_type": "execute_result",
          "data": {
            "text/plain": [
              "State Code                          36.000000\n",
              "County Code                         42.997536\n",
              "Site Num                           422.284118\n",
              "Parameter Code                   63058.719930\n",
              "POC                                  3.787154\n",
              "Latitude                            41.986112\n",
              "Longitude                          -75.403103\n",
              "Year                              2019.565244\n",
              "Observation Count                 1617.128465\n",
              "Observation Percent                 76.171139\n",
              "Valid Day Count                    102.692037\n",
              "Required Day Count                 137.533480\n",
              "Exceptional Data Count              36.275935\n",
              "Null Data Count                     81.259305\n",
              "Primary Exceedance Count             0.622907\n",
              "Secondary Exceedance Count           0.640701\n",
              "Num Obs Below MDL                    0.000000\n",
              "Arithmetic Mean                     95.916940\n",
              "Arithmetic Standard Dev             29.787813\n",
              "1st Max Value                      362.109397\n",
              "2nd Max Value                      322.720676\n",
              "3rd Max Value                      296.106247\n",
              "4th Max Value                      281.766105\n",
              "1st Max Non Overlapping Value        0.987179\n",
              "2nd Max Non Overlapping Value        0.866667\n",
              "99th Percentile                    198.867583\n",
              "98th Percentile                    178.432656\n",
              "95th Percentile                    152.541095\n",
              "90th Percentile                    133.439175\n",
              "75th Percentile                    108.594795\n",
              "50th Percentile                     88.613134\n",
              "10th Percentile                     67.454306\n",
              "dtype: float64"
            ]
          },
          "metadata": {},
          "execution_count": 56
        }
      ]
    },
    {
      "cell_type": "code",
      "source": [
        "fl_df.mean()"
      ],
      "metadata": {
        "colab": {
          "base_uri": "https://localhost:8080/"
        },
        "id": "LqsibIYCPoLZ",
        "outputId": "500e877c-420d-40c5-e624-6b884b725153"
      },
      "execution_count": 57,
      "outputs": [
        {
          "output_type": "stream",
          "name": "stderr",
          "text": [
            "/usr/local/lib/python3.7/dist-packages/ipykernel_launcher.py:1: FutureWarning: Dropping of nuisance columns in DataFrame reductions (with 'numeric_only=None') is deprecated; in a future version this will raise TypeError.  Select only valid columns before calling the reduction.\n",
            "  \"\"\"Entry point for launching an IPython kernel.\n"
          ]
        },
        {
          "output_type": "execute_result",
          "data": {
            "text/plain": [
              "State Code                          12.000000\n",
              "County Code                         64.667307\n",
              "Site Num                          1345.128771\n",
              "Parameter Code                   65932.568157\n",
              "POC                                  2.286890\n",
              "Latitude                            28.050874\n",
              "Longitude                          -82.100533\n",
              "Year                              2019.541964\n",
              "Observation Count                 2725.418541\n",
              "Observation Percent                 76.229155\n",
              "Valid Day Count                    147.210368\n",
              "Required Day Count                 191.568568\n",
              "Exceptional Data Count              38.951454\n",
              "Null Data Count                    160.919912\n",
              "Primary Exceedance Count             0.458542\n",
              "Secondary Exceedance Count           0.488330\n",
              "Num Obs Below MDL                    0.000000\n",
              "Arithmetic Mean                     68.820553\n",
              "Arithmetic Standard Dev             13.349933\n",
              "1st Max Value                      279.244811\n",
              "2nd Max Value                      233.833687\n",
              "3rd Max Value                      214.914840\n",
              "4th Max Value                      204.199529\n",
              "1st Max Non Overlapping Value        0.939024\n",
              "2nd Max Non Overlapping Value        0.839024\n",
              "99th Percentile                    110.897856\n",
              "98th Percentile                    101.832895\n",
              "95th Percentile                     91.599006\n",
              "90th Percentile                     84.128811\n",
              "75th Percentile                     74.019104\n",
              "50th Percentile                     65.946152\n",
              "10th Percentile                     56.765148\n",
              "dtype: float64"
            ]
          },
          "metadata": {},
          "execution_count": 57
        }
      ]
    },
    {
      "cell_type": "code",
      "source": [
        "fl_df.median()"
      ],
      "metadata": {
        "colab": {
          "base_uri": "https://localhost:8080/"
        },
        "id": "hanFKk3lPw2F",
        "outputId": "b1f2adcd-862f-451f-af75-c79bfd94be63"
      },
      "execution_count": 58,
      "outputs": [
        {
          "output_type": "stream",
          "name": "stderr",
          "text": [
            "/usr/local/lib/python3.7/dist-packages/ipykernel_launcher.py:1: FutureWarning: Dropping of nuisance columns in DataFrame reductions (with 'numeric_only=None') is deprecated; in a future version this will raise TypeError.  Select only valid columns before calling the reduction.\n",
            "  \"\"\"Entry point for launching an IPython kernel.\n"
          ]
        },
        {
          "output_type": "execute_result",
          "data": {
            "text/plain": [
              "State Code                          12.000000\n",
              "County Code                         57.000000\n",
              "Site Num                            34.000000\n",
              "Parameter Code                   68107.000000\n",
              "POC                                  1.000000\n",
              "Latitude                            27.965650\n",
              "Longitude                          -82.230400\n",
              "Year                              2020.000000\n",
              "Observation Count                  111.000000\n",
              "Observation Percent                 90.000000\n",
              "Valid Day Count                    107.000000\n",
              "Required Day Count                 122.000000\n",
              "Exceptional Data Count               0.000000\n",
              "Null Data Count                      3.000000\n",
              "Primary Exceedance Count             0.000000\n",
              "Secondary Exceedance Count           0.000000\n",
              "Num Obs Below MDL                    0.000000\n",
              "Arithmetic Mean                      0.476705\n",
              "Arithmetic Standard Dev              0.268944\n",
              "1st Max Value                        2.061000\n",
              "2nd Max Value                        1.500000\n",
              "3rd Max Value                        1.300000\n",
              "4th Max Value                        1.200000\n",
              "1st Max Non Overlapping Value        0.900000\n",
              "2nd Max Non Overlapping Value        0.800000\n",
              "99th Percentile                      1.746000\n",
              "98th Percentile                      1.457500\n",
              "95th Percentile                      1.100000\n",
              "90th Percentile                      0.880000\n",
              "75th Percentile                      0.583585\n",
              "50th Percentile                      0.392000\n",
              "10th Percentile                      0.157000\n",
              "dtype: float64"
            ]
          },
          "metadata": {},
          "execution_count": 58
        }
      ]
    },
    {
      "cell_type": "code",
      "source": [
        "ny_df.info()"
      ],
      "metadata": {
        "colab": {
          "base_uri": "https://localhost:8080/"
        },
        "id": "THLu6Hz9P01d",
        "outputId": "61410222-6431-4937-f549-7b12f3553c0b"
      },
      "execution_count": 59,
      "outputs": [
        {
          "output_type": "stream",
          "name": "stdout",
          "text": [
            "<class 'pandas.core.frame.DataFrame'>\n",
            "Int64Index: 11365 entries, 45702 to 45745\n",
            "Data columns (total 55 columns):\n",
            " #   Column                         Non-Null Count  Dtype  \n",
            "---  ------                         --------------  -----  \n",
            " 0   State Code                     11365 non-null  int64  \n",
            " 1   County Code                    11365 non-null  int64  \n",
            " 2   Site Num                       11365 non-null  int64  \n",
            " 3   Parameter Code                 11365 non-null  int64  \n",
            " 4   POC                            11365 non-null  int64  \n",
            " 5   Latitude                       11365 non-null  float64\n",
            " 6   Longitude                      11365 non-null  float64\n",
            " 7   Datum                          11365 non-null  object \n",
            " 8   Parameter Name                 11365 non-null  object \n",
            " 9   Sample Duration                11365 non-null  object \n",
            " 10  Pollutant Standard             1685 non-null   object \n",
            " 11  Metric Used                    11365 non-null  object \n",
            " 12  Method Name                    10462 non-null  object \n",
            " 13  Year                           11365 non-null  int64  \n",
            " 14  Units of Measure               11365 non-null  object \n",
            " 15  Event Type                     11365 non-null  object \n",
            " 16  Observation Count              11365 non-null  int64  \n",
            " 17  Observation Percent            11365 non-null  int64  \n",
            " 18  Completeness Indicator         11365 non-null  object \n",
            " 19  Valid Day Count                11365 non-null  int64  \n",
            " 20  Required Day Count             11365 non-null  int64  \n",
            " 21  Exceptional Data Count         11365 non-null  int64  \n",
            " 22  Null Data Count                11365 non-null  int64  \n",
            " 23  Primary Exceedance Count       1135 non-null   float64\n",
            " 24  Secondary Exceedance Count     1027 non-null   float64\n",
            " 25  Certification Indicator        11365 non-null  object \n",
            " 26  Num Obs Below MDL              11365 non-null  int64  \n",
            " 27  Arithmetic Mean                11365 non-null  float64\n",
            " 28  Arithmetic Standard Dev        11365 non-null  float64\n",
            " 29  1st Max Value                  11365 non-null  float64\n",
            " 30  1st Max DateTime               11365 non-null  object \n",
            " 31  2nd Max Value                  11363 non-null  float64\n",
            " 32  2nd Max DateTime               11363 non-null  object \n",
            " 33  3rd Max Value                  11363 non-null  float64\n",
            " 34  3rd Max DateTime               11363 non-null  object \n",
            " 35  4th Max Value                  11362 non-null  float64\n",
            " 36  4th Max DateTime               11362 non-null  object \n",
            " 37  1st Max Non Overlapping Value  39 non-null     float64\n",
            " 38  1st NO Max DateTime            39 non-null     object \n",
            " 39  2nd Max Non Overlapping Value  39 non-null     float64\n",
            " 40  2nd NO Max DateTime            39 non-null     object \n",
            " 41  99th Percentile                11365 non-null  float64\n",
            " 42  98th Percentile                11365 non-null  float64\n",
            " 43  95th Percentile                11365 non-null  float64\n",
            " 44  90th Percentile                11365 non-null  float64\n",
            " 45  75th Percentile                11365 non-null  float64\n",
            " 46  50th Percentile                11365 non-null  float64\n",
            " 47  10th Percentile                11365 non-null  float64\n",
            " 48  Local Site Name                11364 non-null  object \n",
            " 49  Address                        11365 non-null  object \n",
            " 50  State Name                     11365 non-null  object \n",
            " 51  County Name                    11365 non-null  object \n",
            " 52  City Name                      9402 non-null   object \n",
            " 53  CBSA Name                      10541 non-null  object \n",
            " 54  Date of Last Change            11365 non-null  object \n",
            "dtypes: float64(19), int64(13), object(23)\n",
            "memory usage: 4.9+ MB\n"
          ]
        }
      ]
    },
    {
      "cell_type": "code",
      "source": [
        "ny_df.drop(ny_df.columns[[4, 7, 16, 17, 18, 19, 20, 21, 22, 23, 24, 25, 26, 37, 38, 39, 40, 48, 49]], axis = 1, inplace= True )"
      ],
      "metadata": {
        "colab": {
          "base_uri": "https://localhost:8080/"
        },
        "id": "WhPZXg_5QGk5",
        "outputId": "07643139-e521-4b54-e775-a2928053a8f7"
      },
      "execution_count": 60,
      "outputs": [
        {
          "output_type": "stream",
          "name": "stderr",
          "text": [
            "/usr/local/lib/python3.7/dist-packages/pandas/core/frame.py:4913: SettingWithCopyWarning: \n",
            "A value is trying to be set on a copy of a slice from a DataFrame\n",
            "\n",
            "See the caveats in the documentation: https://pandas.pydata.org/pandas-docs/stable/user_guide/indexing.html#returning-a-view-versus-a-copy\n",
            "  errors=errors,\n"
          ]
        }
      ]
    },
    {
      "cell_type": "code",
      "source": [
        "fl_df.drop(fl_df.columns[[4, 7, 16, 17, 18, 19, 20, 21, 22, 23, 24, 25, 26, 37, 38, 39, 40, 48, 49]], axis = 1, inplace= True )"
      ],
      "metadata": {
        "colab": {
          "base_uri": "https://localhost:8080/"
        },
        "id": "J9cO_C4DQZ8R",
        "outputId": "dde5a840-c187-4592-8e12-571cde15d0e3"
      },
      "execution_count": 61,
      "outputs": [
        {
          "output_type": "stream",
          "name": "stderr",
          "text": [
            "/usr/local/lib/python3.7/dist-packages/pandas/core/frame.py:4913: SettingWithCopyWarning: \n",
            "A value is trying to be set on a copy of a slice from a DataFrame\n",
            "\n",
            "See the caveats in the documentation: https://pandas.pydata.org/pandas-docs/stable/user_guide/indexing.html#returning-a-view-versus-a-copy\n",
            "  errors=errors,\n"
          ]
        }
      ]
    },
    {
      "cell_type": "code",
      "source": [
        "#export data for further review in tableau"
      ],
      "metadata": {
        "id": "s1OYIRAHQehn"
      },
      "execution_count": 62,
      "outputs": []
    },
    {
      "cell_type": "code",
      "source": [
        "ny_df.to_csv('annual_data_ny.csv')\n",
        "fl_df.to_csv('annual_data_fl.csv')"
      ],
      "metadata": {
        "id": "Ro0Pt9QoQlHU"
      },
      "execution_count": 63,
      "outputs": []
    },
    {
      "cell_type": "code",
      "source": [
        "df.drop(df.columns[[4, 7, 16, 17, 18, 19, 20, 21, 22, 23, 24, 25, 26, 37, 38, 39, 40, 48, 49]], axis = 1, inplace= True )"
      ],
      "metadata": {
        "id": "Rv4SVAEiRZs9"
      },
      "execution_count": 64,
      "outputs": []
    },
    {
      "cell_type": "code",
      "source": [
        "df.to_csv('annual_data.csv')"
      ],
      "metadata": {
        "id": "a8qqMRTSRi_-"
      },
      "execution_count": 65,
      "outputs": []
    }
  ]
}